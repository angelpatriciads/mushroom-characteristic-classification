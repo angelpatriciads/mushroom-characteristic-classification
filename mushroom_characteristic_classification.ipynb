{
  "nbformat": 4,
  "nbformat_minor": 0,
  "metadata": {
    "colab": {
      "provenance": [],
      "collapsed_sections": [
        "Pppt39JCtIfG",
        "GInMR3zWsyBi",
        "_iLbbMKZtRqW",
        "4jjtAZQTtVIW",
        "9wNO_GaBvGPO",
        "--v6v5ZRvJkX",
        "dn6fHeaaAYmk",
        "wVFl6GN9Adyx",
        "NcEEyVXTMGKi",
        "qq2eTaK7KXPo",
        "CdS0WTFAN3Pm",
        "lYiEyjDiOUy5",
        "sn1LqICeoUg7",
        "myBmT9KuAmI1",
        "91oH2QEcszNA",
        "38G5x_jRv44L",
        "QqDatGS2v5Qo",
        "tshVs8WuY9yt",
        "qi-tkUBMZA1N",
        "d7w3-hQlbYyf",
        "G12Y-d6qcpF6",
        "x3dWPodRe5sj",
        "5Bycf3u_fmhH",
        "osqi6ojaaxxb",
        "FpsAMj-_40yT",
        "ulgBRfaE9Ysq",
        "LeBoJOLB91Kx",
        "CRAEYEwB93MS",
        "CNx8zbfUERm6"
      ]
    },
    "kernelspec": {
      "name": "python3",
      "display_name": "Python 3"
    },
    "language_info": {
      "name": "python"
    }
  },
  "cells": [
    {
      "cell_type": "markdown",
      "source": [
        "# Class Color"
      ],
      "metadata": {
        "id": "Pppt39JCtIfG"
      }
    },
    {
      "cell_type": "code",
      "source": [
        "#Untuk memberi tampilan yang menarik\n",
        "class color:\n",
        "    PURPLE = '\\033[95m'\n",
        "    CYAN = '\\033[96m'\n",
        "    DARKCYAN = '\\033[36m'\n",
        "    BLUE = '\\033[94m'\n",
        "    GREEN = '\\033[92m'\n",
        "    YELLOW = '\\033[93m'\n",
        "    RED = '\\033[91m'\n",
        "    BOLD = '\\033[1m'\n",
        "    UNDERLINE = '\\033[4m'\n",
        "    GREYBACKBLACK =  '\\033[0;30;47m'\n",
        "    END = '\\033[0m'"
      ],
      "metadata": {
        "id": "tds87ti6tGu4"
      },
      "execution_count": null,
      "outputs": []
    },
    {
      "cell_type": "markdown",
      "source": [
        "## Analisis Data"
      ],
      "metadata": {
        "id": "38G5x_jRv44L"
      }
    },
    {
      "cell_type": "code",
      "source": [
        "import pandas as pd\n",
        "import matplotlib.pyplot as plt\n",
        "import numpy as np\n",
        "import seaborn as sns"
      ],
      "metadata": {
        "id": "cx1H08FDWUOz"
      },
      "execution_count": null,
      "outputs": []
    },
    {
      "cell_type": "code",
      "source": [
        "#membaca csv dataset\n",
        "jamur_df = pd.read_csv('Jamur.csv')"
      ],
      "metadata": {
        "id": "DQiWQSrms3QC"
      },
      "execution_count": null,
      "outputs": []
    },
    {
      "cell_type": "markdown",
      "source": [
        "**About this file**\n",
        "\n",
        "Attribute Information: (classes: edible=e, poisonous=p)\n",
        "\n",
        "cap-shape: bell=b,conical=c,convex=x,flat=f, knobbed=k,sunken=s\n",
        "\n",
        "cap-surface: fibrous=f,grooves=g,scaly=y,smooth=s\n",
        "\n",
        "cap-color: brown=n,buff=b,cinnamon=c,gray=g,green=r,pink=p,purple=u,red=e,white=w,yellow=y\n",
        "\n",
        "bruises: bruises=t,no=f\n",
        "\n",
        "odor: almond=a,anise=l,creosote=c,fishy=y,foul=f,musty=m,none=n,pungent=p,spicy=s\n",
        "\n",
        "gill-attachment: attached=a,descending=d,free=f,notched=n\n",
        "\n",
        "gill-spacing: close=c,crowded=w,distant=d\n",
        "\n",
        "gill-size: broad=b,narrow=n\n",
        "\n",
        "gill-color: black=k,brown=n,buff=b,chocolate=h,gray=g, green=r,orange=o,pink=p,purple=u,red=e,white=w,yellow=y\n",
        "\n",
        "stalk-shape: enlarging=e,tapering=t\n",
        "\n",
        "stalk-root: bulbous=b,club=c,cup=u,equal=e,rhizomorphs=z,rooted=r,missing=?\n",
        "\n",
        "stalk-surface-above-ring: fibrous=f,scaly=y,silky=k,smooth=s\n",
        "\n",
        "stalk-surface-below-ring: fibrous=f,scaly=y,silky=k,smooth=s\n",
        "\n",
        "stalk-color-above-ring: brown=n,buff=b,cinnamon=c,gray=g,orange=o,pink=p,red=e,white=w,yellow=y\n",
        "\n",
        "stalk-color-below-ring: brown=n,buff=b,cinnamon=c,gray=g,orange=o,pink=p,red=e,white=w,yellow=y\n",
        "\n",
        "veil-type: partial=p,universal=u\n",
        "\n",
        "veil-color: brown=n,orange=o,white=w,yellow=y\n",
        "\n",
        "ring-number: none=n,one=o,two=t\n",
        "\n",
        "ring-type: cobwebby=c,evanescent=e,flaring=f,large=l,none=n,pendant=p,sheathing=s,zone=z\n",
        "\n",
        "spore-print-color: black=k,brown=n,buff=b,chocolate=h,green=r,orange=o,purple=u,white=w,yellow=y\n",
        "\n",
        "population: abundant=a,clustered=c,numerous=n,scattered=s,several=v,solitary=y\n",
        "\n",
        "habitat: grasses=g,leaves=l,meadows=m,paths=p,urban=u,waste=w,woods=d"
      ],
      "metadata": {
        "id": "N1-FOoTXWc1H"
      }
    },
    {
      "cell_type": "code",
      "source": [
        "#menampilkan cuplikan dataset\n",
        "print(color.BOLD + \"Cuplikan Dataset\"+color.END)\n",
        "display(jamur_df.head())\n",
        "print(\"\")\n",
        "\n",
        "#menampilkan info dataset\n",
        "print(color.BOLD + \"Informasi Dataset\"+color.END)\n",
        "display(jamur_df.info())\n",
        "print(\"\")\n",
        "\n",
        "#menampilkan ukuran dataset\n",
        "print(color.BOLD + \"Ukuran Dataset\"+color.END)\n",
        "print(\"Baris: \",jamur_df.shape[0])\n",
        "print(\"Kolom: \",jamur_df.shape[1])\n",
        "print(\"\")\n",
        "\n",
        "#menampilkan kolom-kolom datase\n",
        "print(color.BOLD + \"Kolom-kolom Dataset\"+color.END)\n",
        "print(jamur_df.columns)"
      ],
      "metadata": {
        "colab": {
          "base_uri": "https://localhost:8080/",
          "height": 1000
        },
        "id": "UDXxC6UfWX1G",
        "outputId": "ba9018b5-ba89-4b7c-a173-b03e50a4ae32"
      },
      "execution_count": null,
      "outputs": [
        {
          "output_type": "stream",
          "name": "stdout",
          "text": [
            "\u001b[1mCuplikan Dataset\u001b[0m\n"
          ]
        },
        {
          "output_type": "display_data",
          "data": {
            "text/plain": [
              "  class cap-shape cap-surface cap-color bruises odor gill-attachment  \\\n",
              "0     p         x           s         n       t    p               f   \n",
              "1     e         x           s         y       t    a               f   \n",
              "2     e         b           s         w       t    l               f   \n",
              "3     p         x           y         w       t    p               f   \n",
              "4     e         x           s         g       f    n               f   \n",
              "\n",
              "  gill-spacing gill-size gill-color  ... stalk-surface-below-ring  \\\n",
              "0            c         n          k  ...                        s   \n",
              "1            c         b          k  ...                        s   \n",
              "2            c         b          n  ...                        s   \n",
              "3            c         n          n  ...                        s   \n",
              "4            w         b          k  ...                        s   \n",
              "\n",
              "  stalk-color-above-ring stalk-color-below-ring veil-type veil-color  \\\n",
              "0                      w                      w         p          w   \n",
              "1                      w                      w         p          w   \n",
              "2                      w                      w         p          w   \n",
              "3                      w                      w         p          w   \n",
              "4                      w                      w         p          w   \n",
              "\n",
              "  ring-number ring-type spore-print-color population habitat  \n",
              "0           o         p                 k          s       u  \n",
              "1           o         p                 n          n       g  \n",
              "2           o         p                 n          n       m  \n",
              "3           o         p                 k          s       u  \n",
              "4           o         e                 n          a       g  \n",
              "\n",
              "[5 rows x 23 columns]"
            ],
            "text/html": [
              "\n",
              "  <div id=\"df-4f86e1a3-6b08-48de-9fd1-4ec4668a8448\">\n",
              "    <div class=\"colab-df-container\">\n",
              "      <div>\n",
              "<style scoped>\n",
              "    .dataframe tbody tr th:only-of-type {\n",
              "        vertical-align: middle;\n",
              "    }\n",
              "\n",
              "    .dataframe tbody tr th {\n",
              "        vertical-align: top;\n",
              "    }\n",
              "\n",
              "    .dataframe thead th {\n",
              "        text-align: right;\n",
              "    }\n",
              "</style>\n",
              "<table border=\"1\" class=\"dataframe\">\n",
              "  <thead>\n",
              "    <tr style=\"text-align: right;\">\n",
              "      <th></th>\n",
              "      <th>class</th>\n",
              "      <th>cap-shape</th>\n",
              "      <th>cap-surface</th>\n",
              "      <th>cap-color</th>\n",
              "      <th>bruises</th>\n",
              "      <th>odor</th>\n",
              "      <th>gill-attachment</th>\n",
              "      <th>gill-spacing</th>\n",
              "      <th>gill-size</th>\n",
              "      <th>gill-color</th>\n",
              "      <th>...</th>\n",
              "      <th>stalk-surface-below-ring</th>\n",
              "      <th>stalk-color-above-ring</th>\n",
              "      <th>stalk-color-below-ring</th>\n",
              "      <th>veil-type</th>\n",
              "      <th>veil-color</th>\n",
              "      <th>ring-number</th>\n",
              "      <th>ring-type</th>\n",
              "      <th>spore-print-color</th>\n",
              "      <th>population</th>\n",
              "      <th>habitat</th>\n",
              "    </tr>\n",
              "  </thead>\n",
              "  <tbody>\n",
              "    <tr>\n",
              "      <th>0</th>\n",
              "      <td>p</td>\n",
              "      <td>x</td>\n",
              "      <td>s</td>\n",
              "      <td>n</td>\n",
              "      <td>t</td>\n",
              "      <td>p</td>\n",
              "      <td>f</td>\n",
              "      <td>c</td>\n",
              "      <td>n</td>\n",
              "      <td>k</td>\n",
              "      <td>...</td>\n",
              "      <td>s</td>\n",
              "      <td>w</td>\n",
              "      <td>w</td>\n",
              "      <td>p</td>\n",
              "      <td>w</td>\n",
              "      <td>o</td>\n",
              "      <td>p</td>\n",
              "      <td>k</td>\n",
              "      <td>s</td>\n",
              "      <td>u</td>\n",
              "    </tr>\n",
              "    <tr>\n",
              "      <th>1</th>\n",
              "      <td>e</td>\n",
              "      <td>x</td>\n",
              "      <td>s</td>\n",
              "      <td>y</td>\n",
              "      <td>t</td>\n",
              "      <td>a</td>\n",
              "      <td>f</td>\n",
              "      <td>c</td>\n",
              "      <td>b</td>\n",
              "      <td>k</td>\n",
              "      <td>...</td>\n",
              "      <td>s</td>\n",
              "      <td>w</td>\n",
              "      <td>w</td>\n",
              "      <td>p</td>\n",
              "      <td>w</td>\n",
              "      <td>o</td>\n",
              "      <td>p</td>\n",
              "      <td>n</td>\n",
              "      <td>n</td>\n",
              "      <td>g</td>\n",
              "    </tr>\n",
              "    <tr>\n",
              "      <th>2</th>\n",
              "      <td>e</td>\n",
              "      <td>b</td>\n",
              "      <td>s</td>\n",
              "      <td>w</td>\n",
              "      <td>t</td>\n",
              "      <td>l</td>\n",
              "      <td>f</td>\n",
              "      <td>c</td>\n",
              "      <td>b</td>\n",
              "      <td>n</td>\n",
              "      <td>...</td>\n",
              "      <td>s</td>\n",
              "      <td>w</td>\n",
              "      <td>w</td>\n",
              "      <td>p</td>\n",
              "      <td>w</td>\n",
              "      <td>o</td>\n",
              "      <td>p</td>\n",
              "      <td>n</td>\n",
              "      <td>n</td>\n",
              "      <td>m</td>\n",
              "    </tr>\n",
              "    <tr>\n",
              "      <th>3</th>\n",
              "      <td>p</td>\n",
              "      <td>x</td>\n",
              "      <td>y</td>\n",
              "      <td>w</td>\n",
              "      <td>t</td>\n",
              "      <td>p</td>\n",
              "      <td>f</td>\n",
              "      <td>c</td>\n",
              "      <td>n</td>\n",
              "      <td>n</td>\n",
              "      <td>...</td>\n",
              "      <td>s</td>\n",
              "      <td>w</td>\n",
              "      <td>w</td>\n",
              "      <td>p</td>\n",
              "      <td>w</td>\n",
              "      <td>o</td>\n",
              "      <td>p</td>\n",
              "      <td>k</td>\n",
              "      <td>s</td>\n",
              "      <td>u</td>\n",
              "    </tr>\n",
              "    <tr>\n",
              "      <th>4</th>\n",
              "      <td>e</td>\n",
              "      <td>x</td>\n",
              "      <td>s</td>\n",
              "      <td>g</td>\n",
              "      <td>f</td>\n",
              "      <td>n</td>\n",
              "      <td>f</td>\n",
              "      <td>w</td>\n",
              "      <td>b</td>\n",
              "      <td>k</td>\n",
              "      <td>...</td>\n",
              "      <td>s</td>\n",
              "      <td>w</td>\n",
              "      <td>w</td>\n",
              "      <td>p</td>\n",
              "      <td>w</td>\n",
              "      <td>o</td>\n",
              "      <td>e</td>\n",
              "      <td>n</td>\n",
              "      <td>a</td>\n",
              "      <td>g</td>\n",
              "    </tr>\n",
              "  </tbody>\n",
              "</table>\n",
              "<p>5 rows × 23 columns</p>\n",
              "</div>\n",
              "      <button class=\"colab-df-convert\" onclick=\"convertToInteractive('df-4f86e1a3-6b08-48de-9fd1-4ec4668a8448')\"\n",
              "              title=\"Convert this dataframe to an interactive table.\"\n",
              "              style=\"display:none;\">\n",
              "        \n",
              "  <svg xmlns=\"http://www.w3.org/2000/svg\" height=\"24px\"viewBox=\"0 0 24 24\"\n",
              "       width=\"24px\">\n",
              "    <path d=\"M0 0h24v24H0V0z\" fill=\"none\"/>\n",
              "    <path d=\"M18.56 5.44l.94 2.06.94-2.06 2.06-.94-2.06-.94-.94-2.06-.94 2.06-2.06.94zm-11 1L8.5 8.5l.94-2.06 2.06-.94-2.06-.94L8.5 2.5l-.94 2.06-2.06.94zm10 10l.94 2.06.94-2.06 2.06-.94-2.06-.94-.94-2.06-.94 2.06-2.06.94z\"/><path d=\"M17.41 7.96l-1.37-1.37c-.4-.4-.92-.59-1.43-.59-.52 0-1.04.2-1.43.59L10.3 9.45l-7.72 7.72c-.78.78-.78 2.05 0 2.83L4 21.41c.39.39.9.59 1.41.59.51 0 1.02-.2 1.41-.59l7.78-7.78 2.81-2.81c.8-.78.8-2.07 0-2.86zM5.41 20L4 18.59l7.72-7.72 1.47 1.35L5.41 20z\"/>\n",
              "  </svg>\n",
              "      </button>\n",
              "      \n",
              "  <style>\n",
              "    .colab-df-container {\n",
              "      display:flex;\n",
              "      flex-wrap:wrap;\n",
              "      gap: 12px;\n",
              "    }\n",
              "\n",
              "    .colab-df-convert {\n",
              "      background-color: #E8F0FE;\n",
              "      border: none;\n",
              "      border-radius: 50%;\n",
              "      cursor: pointer;\n",
              "      display: none;\n",
              "      fill: #1967D2;\n",
              "      height: 32px;\n",
              "      padding: 0 0 0 0;\n",
              "      width: 32px;\n",
              "    }\n",
              "\n",
              "    .colab-df-convert:hover {\n",
              "      background-color: #E2EBFA;\n",
              "      box-shadow: 0px 1px 2px rgba(60, 64, 67, 0.3), 0px 1px 3px 1px rgba(60, 64, 67, 0.15);\n",
              "      fill: #174EA6;\n",
              "    }\n",
              "\n",
              "    [theme=dark] .colab-df-convert {\n",
              "      background-color: #3B4455;\n",
              "      fill: #D2E3FC;\n",
              "    }\n",
              "\n",
              "    [theme=dark] .colab-df-convert:hover {\n",
              "      background-color: #434B5C;\n",
              "      box-shadow: 0px 1px 3px 1px rgba(0, 0, 0, 0.15);\n",
              "      filter: drop-shadow(0px 1px 2px rgba(0, 0, 0, 0.3));\n",
              "      fill: #FFFFFF;\n",
              "    }\n",
              "  </style>\n",
              "\n",
              "      <script>\n",
              "        const buttonEl =\n",
              "          document.querySelector('#df-4f86e1a3-6b08-48de-9fd1-4ec4668a8448 button.colab-df-convert');\n",
              "        buttonEl.style.display =\n",
              "          google.colab.kernel.accessAllowed ? 'block' : 'none';\n",
              "\n",
              "        async function convertToInteractive(key) {\n",
              "          const element = document.querySelector('#df-4f86e1a3-6b08-48de-9fd1-4ec4668a8448');\n",
              "          const dataTable =\n",
              "            await google.colab.kernel.invokeFunction('convertToInteractive',\n",
              "                                                     [key], {});\n",
              "          if (!dataTable) return;\n",
              "\n",
              "          const docLinkHtml = 'Like what you see? Visit the ' +\n",
              "            '<a target=\"_blank\" href=https://colab.research.google.com/notebooks/data_table.ipynb>data table notebook</a>'\n",
              "            + ' to learn more about interactive tables.';\n",
              "          element.innerHTML = '';\n",
              "          dataTable['output_type'] = 'display_data';\n",
              "          await google.colab.output.renderOutput(dataTable, element);\n",
              "          const docLink = document.createElement('div');\n",
              "          docLink.innerHTML = docLinkHtml;\n",
              "          element.appendChild(docLink);\n",
              "        }\n",
              "      </script>\n",
              "    </div>\n",
              "  </div>\n",
              "  "
            ]
          },
          "metadata": {}
        },
        {
          "output_type": "stream",
          "name": "stdout",
          "text": [
            "\n",
            "\u001b[1mInformasi Dataset\u001b[0m\n",
            "<class 'pandas.core.frame.DataFrame'>\n",
            "RangeIndex: 8124 entries, 0 to 8123\n",
            "Data columns (total 23 columns):\n",
            " #   Column                    Non-Null Count  Dtype \n",
            "---  ------                    --------------  ----- \n",
            " 0   class                     8124 non-null   object\n",
            " 1   cap-shape                 8124 non-null   object\n",
            " 2   cap-surface               8124 non-null   object\n",
            " 3   cap-color                 8124 non-null   object\n",
            " 4   bruises                   8124 non-null   object\n",
            " 5   odor                      8124 non-null   object\n",
            " 6   gill-attachment           8124 non-null   object\n",
            " 7   gill-spacing              8124 non-null   object\n",
            " 8   gill-size                 8124 non-null   object\n",
            " 9   gill-color                8124 non-null   object\n",
            " 10  stalk-shape               8124 non-null   object\n",
            " 11  stalk-root                8124 non-null   object\n",
            " 12  stalk-surface-above-ring  8124 non-null   object\n",
            " 13  stalk-surface-below-ring  8124 non-null   object\n",
            " 14  stalk-color-above-ring    8124 non-null   object\n",
            " 15  stalk-color-below-ring    8124 non-null   object\n",
            " 16  veil-type                 8124 non-null   object\n",
            " 17  veil-color                8124 non-null   object\n",
            " 18  ring-number               8124 non-null   object\n",
            " 19  ring-type                 8124 non-null   object\n",
            " 20  spore-print-color         8124 non-null   object\n",
            " 21  population                8124 non-null   object\n",
            " 22  habitat                   8124 non-null   object\n",
            "dtypes: object(23)\n",
            "memory usage: 1.4+ MB\n"
          ]
        },
        {
          "output_type": "display_data",
          "data": {
            "text/plain": [
              "None"
            ]
          },
          "metadata": {}
        },
        {
          "output_type": "stream",
          "name": "stdout",
          "text": [
            "\n",
            "\u001b[1mUkuran Dataset\u001b[0m\n",
            "Baris:  8124\n",
            "Kolom:  23\n",
            "\n",
            "\u001b[1mKolom-kolom Dataset\u001b[0m\n",
            "Index(['class', 'cap-shape', 'cap-surface', 'cap-color', 'bruises', 'odor',\n",
            "       'gill-attachment', 'gill-spacing', 'gill-size', 'gill-color',\n",
            "       'stalk-shape', 'stalk-root', 'stalk-surface-above-ring',\n",
            "       'stalk-surface-below-ring', 'stalk-color-above-ring',\n",
            "       'stalk-color-below-ring', 'veil-type', 'veil-color', 'ring-number',\n",
            "       'ring-type', 'spore-print-color', 'population', 'habitat'],\n",
            "      dtype='object')\n"
          ]
        }
      ]
    },
    {
      "cell_type": "markdown",
      "source": [
        "**Tipe Data**\n",
        "1. Attribute Information: binary\n",
        "2. cap-shape: nominal\n",
        "3. cap-surface: nominal\n",
        "4. cap-color: nominal\n",
        "5. bruises: binary\n",
        "6. odor: nominal\n",
        "7. gill-attachment: nominal\n",
        "8. gill-spacing: nominal\n",
        "9. gill-size: nominal\n",
        "10. gill-color: nominal\n",
        "11. stalk-shape: nominal\n",
        "12. stalk-root: nominal\n",
        "13. stalk-surface-above-ring: nominal\n",
        "14. stalk-surface-below-ring: nominal\n",
        "15. stalk-color-above-ring: nominal\n",
        "16. stalk-color-below-ring: nominal\n",
        "17. veil-type: nominal\n",
        "18. veil-color: nominal\n",
        "19. ring-number: nominal\n",
        "20. ring-type: nominal\n",
        "21. spore-print-color: nominal\n",
        "22. population: nominal\n",
        "23. habitat: nominal"
      ],
      "metadata": {
        "id": "Rao629GbXUc0"
      }
    },
    {
      "cell_type": "code",
      "source": [
        "#menampilkan statistik dataset\n",
        "print(color.BOLD + color.DARKCYAN + \"Statistik Dataset\"+color.END)\n",
        "jamur_df.describe()"
      ],
      "metadata": {
        "colab": {
          "base_uri": "https://localhost:8080/",
          "height": 338
        },
        "id": "TQh7TxRoW9WO",
        "outputId": "1f75c211-f8ad-4d07-e952-77ccc53d92d9"
      },
      "execution_count": null,
      "outputs": [
        {
          "output_type": "stream",
          "name": "stdout",
          "text": [
            "\u001b[1m\u001b[36mStatistik Dataset\u001b[0m\n"
          ]
        },
        {
          "output_type": "execute_result",
          "data": {
            "text/plain": [
              "       class cap-shape cap-surface cap-color bruises  odor gill-attachment  \\\n",
              "count   8124      8124        8124      8124    8124  8124            8124   \n",
              "unique     2         6           4        10       2     9               2   \n",
              "top        e         x           y         n       f     n               f   \n",
              "freq    4208      3656        3244      2284    4748  3528            7914   \n",
              "\n",
              "       gill-spacing gill-size gill-color  ... stalk-surface-below-ring  \\\n",
              "count          8124      8124       8124  ...                     8124   \n",
              "unique            2         2         12  ...                        4   \n",
              "top               c         b          b  ...                        s   \n",
              "freq           6812      5612       1728  ...                     4936   \n",
              "\n",
              "       stalk-color-above-ring stalk-color-below-ring veil-type veil-color  \\\n",
              "count                    8124                   8124      8124       8124   \n",
              "unique                      9                      9         1          4   \n",
              "top                         w                      w         p          w   \n",
              "freq                     4464                   4384      8124       7924   \n",
              "\n",
              "       ring-number ring-type spore-print-color population habitat  \n",
              "count         8124      8124              8124       8124    8124  \n",
              "unique           3         5                 9          6       7  \n",
              "top              o         p                 w          v       d  \n",
              "freq          7488      3968              2388       4040    3148  \n",
              "\n",
              "[4 rows x 23 columns]"
            ],
            "text/html": [
              "\n",
              "  <div id=\"df-f0ab38b5-a167-4f1c-8469-fe2ea2a2afab\">\n",
              "    <div class=\"colab-df-container\">\n",
              "      <div>\n",
              "<style scoped>\n",
              "    .dataframe tbody tr th:only-of-type {\n",
              "        vertical-align: middle;\n",
              "    }\n",
              "\n",
              "    .dataframe tbody tr th {\n",
              "        vertical-align: top;\n",
              "    }\n",
              "\n",
              "    .dataframe thead th {\n",
              "        text-align: right;\n",
              "    }\n",
              "</style>\n",
              "<table border=\"1\" class=\"dataframe\">\n",
              "  <thead>\n",
              "    <tr style=\"text-align: right;\">\n",
              "      <th></th>\n",
              "      <th>class</th>\n",
              "      <th>cap-shape</th>\n",
              "      <th>cap-surface</th>\n",
              "      <th>cap-color</th>\n",
              "      <th>bruises</th>\n",
              "      <th>odor</th>\n",
              "      <th>gill-attachment</th>\n",
              "      <th>gill-spacing</th>\n",
              "      <th>gill-size</th>\n",
              "      <th>gill-color</th>\n",
              "      <th>...</th>\n",
              "      <th>stalk-surface-below-ring</th>\n",
              "      <th>stalk-color-above-ring</th>\n",
              "      <th>stalk-color-below-ring</th>\n",
              "      <th>veil-type</th>\n",
              "      <th>veil-color</th>\n",
              "      <th>ring-number</th>\n",
              "      <th>ring-type</th>\n",
              "      <th>spore-print-color</th>\n",
              "      <th>population</th>\n",
              "      <th>habitat</th>\n",
              "    </tr>\n",
              "  </thead>\n",
              "  <tbody>\n",
              "    <tr>\n",
              "      <th>count</th>\n",
              "      <td>8124</td>\n",
              "      <td>8124</td>\n",
              "      <td>8124</td>\n",
              "      <td>8124</td>\n",
              "      <td>8124</td>\n",
              "      <td>8124</td>\n",
              "      <td>8124</td>\n",
              "      <td>8124</td>\n",
              "      <td>8124</td>\n",
              "      <td>8124</td>\n",
              "      <td>...</td>\n",
              "      <td>8124</td>\n",
              "      <td>8124</td>\n",
              "      <td>8124</td>\n",
              "      <td>8124</td>\n",
              "      <td>8124</td>\n",
              "      <td>8124</td>\n",
              "      <td>8124</td>\n",
              "      <td>8124</td>\n",
              "      <td>8124</td>\n",
              "      <td>8124</td>\n",
              "    </tr>\n",
              "    <tr>\n",
              "      <th>unique</th>\n",
              "      <td>2</td>\n",
              "      <td>6</td>\n",
              "      <td>4</td>\n",
              "      <td>10</td>\n",
              "      <td>2</td>\n",
              "      <td>9</td>\n",
              "      <td>2</td>\n",
              "      <td>2</td>\n",
              "      <td>2</td>\n",
              "      <td>12</td>\n",
              "      <td>...</td>\n",
              "      <td>4</td>\n",
              "      <td>9</td>\n",
              "      <td>9</td>\n",
              "      <td>1</td>\n",
              "      <td>4</td>\n",
              "      <td>3</td>\n",
              "      <td>5</td>\n",
              "      <td>9</td>\n",
              "      <td>6</td>\n",
              "      <td>7</td>\n",
              "    </tr>\n",
              "    <tr>\n",
              "      <th>top</th>\n",
              "      <td>e</td>\n",
              "      <td>x</td>\n",
              "      <td>y</td>\n",
              "      <td>n</td>\n",
              "      <td>f</td>\n",
              "      <td>n</td>\n",
              "      <td>f</td>\n",
              "      <td>c</td>\n",
              "      <td>b</td>\n",
              "      <td>b</td>\n",
              "      <td>...</td>\n",
              "      <td>s</td>\n",
              "      <td>w</td>\n",
              "      <td>w</td>\n",
              "      <td>p</td>\n",
              "      <td>w</td>\n",
              "      <td>o</td>\n",
              "      <td>p</td>\n",
              "      <td>w</td>\n",
              "      <td>v</td>\n",
              "      <td>d</td>\n",
              "    </tr>\n",
              "    <tr>\n",
              "      <th>freq</th>\n",
              "      <td>4208</td>\n",
              "      <td>3656</td>\n",
              "      <td>3244</td>\n",
              "      <td>2284</td>\n",
              "      <td>4748</td>\n",
              "      <td>3528</td>\n",
              "      <td>7914</td>\n",
              "      <td>6812</td>\n",
              "      <td>5612</td>\n",
              "      <td>1728</td>\n",
              "      <td>...</td>\n",
              "      <td>4936</td>\n",
              "      <td>4464</td>\n",
              "      <td>4384</td>\n",
              "      <td>8124</td>\n",
              "      <td>7924</td>\n",
              "      <td>7488</td>\n",
              "      <td>3968</td>\n",
              "      <td>2388</td>\n",
              "      <td>4040</td>\n",
              "      <td>3148</td>\n",
              "    </tr>\n",
              "  </tbody>\n",
              "</table>\n",
              "<p>4 rows × 23 columns</p>\n",
              "</div>\n",
              "      <button class=\"colab-df-convert\" onclick=\"convertToInteractive('df-f0ab38b5-a167-4f1c-8469-fe2ea2a2afab')\"\n",
              "              title=\"Convert this dataframe to an interactive table.\"\n",
              "              style=\"display:none;\">\n",
              "        \n",
              "  <svg xmlns=\"http://www.w3.org/2000/svg\" height=\"24px\"viewBox=\"0 0 24 24\"\n",
              "       width=\"24px\">\n",
              "    <path d=\"M0 0h24v24H0V0z\" fill=\"none\"/>\n",
              "    <path d=\"M18.56 5.44l.94 2.06.94-2.06 2.06-.94-2.06-.94-.94-2.06-.94 2.06-2.06.94zm-11 1L8.5 8.5l.94-2.06 2.06-.94-2.06-.94L8.5 2.5l-.94 2.06-2.06.94zm10 10l.94 2.06.94-2.06 2.06-.94-2.06-.94-.94-2.06-.94 2.06-2.06.94z\"/><path d=\"M17.41 7.96l-1.37-1.37c-.4-.4-.92-.59-1.43-.59-.52 0-1.04.2-1.43.59L10.3 9.45l-7.72 7.72c-.78.78-.78 2.05 0 2.83L4 21.41c.39.39.9.59 1.41.59.51 0 1.02-.2 1.41-.59l7.78-7.78 2.81-2.81c.8-.78.8-2.07 0-2.86zM5.41 20L4 18.59l7.72-7.72 1.47 1.35L5.41 20z\"/>\n",
              "  </svg>\n",
              "      </button>\n",
              "      \n",
              "  <style>\n",
              "    .colab-df-container {\n",
              "      display:flex;\n",
              "      flex-wrap:wrap;\n",
              "      gap: 12px;\n",
              "    }\n",
              "\n",
              "    .colab-df-convert {\n",
              "      background-color: #E8F0FE;\n",
              "      border: none;\n",
              "      border-radius: 50%;\n",
              "      cursor: pointer;\n",
              "      display: none;\n",
              "      fill: #1967D2;\n",
              "      height: 32px;\n",
              "      padding: 0 0 0 0;\n",
              "      width: 32px;\n",
              "    }\n",
              "\n",
              "    .colab-df-convert:hover {\n",
              "      background-color: #E2EBFA;\n",
              "      box-shadow: 0px 1px 2px rgba(60, 64, 67, 0.3), 0px 1px 3px 1px rgba(60, 64, 67, 0.15);\n",
              "      fill: #174EA6;\n",
              "    }\n",
              "\n",
              "    [theme=dark] .colab-df-convert {\n",
              "      background-color: #3B4455;\n",
              "      fill: #D2E3FC;\n",
              "    }\n",
              "\n",
              "    [theme=dark] .colab-df-convert:hover {\n",
              "      background-color: #434B5C;\n",
              "      box-shadow: 0px 1px 3px 1px rgba(0, 0, 0, 0.15);\n",
              "      filter: drop-shadow(0px 1px 2px rgba(0, 0, 0, 0.3));\n",
              "      fill: #FFFFFF;\n",
              "    }\n",
              "  </style>\n",
              "\n",
              "      <script>\n",
              "        const buttonEl =\n",
              "          document.querySelector('#df-f0ab38b5-a167-4f1c-8469-fe2ea2a2afab button.colab-df-convert');\n",
              "        buttonEl.style.display =\n",
              "          google.colab.kernel.accessAllowed ? 'block' : 'none';\n",
              "\n",
              "        async function convertToInteractive(key) {\n",
              "          const element = document.querySelector('#df-f0ab38b5-a167-4f1c-8469-fe2ea2a2afab');\n",
              "          const dataTable =\n",
              "            await google.colab.kernel.invokeFunction('convertToInteractive',\n",
              "                                                     [key], {});\n",
              "          if (!dataTable) return;\n",
              "\n",
              "          const docLinkHtml = 'Like what you see? Visit the ' +\n",
              "            '<a target=\"_blank\" href=https://colab.research.google.com/notebooks/data_table.ipynb>data table notebook</a>'\n",
              "            + ' to learn more about interactive tables.';\n",
              "          element.innerHTML = '';\n",
              "          dataTable['output_type'] = 'display_data';\n",
              "          await google.colab.output.renderOutput(dataTable, element);\n",
              "          const docLink = document.createElement('div');\n",
              "          docLink.innerHTML = docLinkHtml;\n",
              "          element.appendChild(docLink);\n",
              "        }\n",
              "      </script>\n",
              "    </div>\n",
              "  </div>\n",
              "  "
            ]
          },
          "metadata": {},
          "execution_count": 41
        }
      ]
    },
    {
      "cell_type": "markdown",
      "source": [
        "## Cleaning Data"
      ],
      "metadata": {
        "id": "QqDatGS2v5Qo"
      }
    },
    {
      "cell_type": "markdown",
      "source": [
        "### Missing Value & Data Duplicate"
      ],
      "metadata": {
        "id": "tshVs8WuY9yt"
      }
    },
    {
      "cell_type": "code",
      "source": [
        "#memeriksa apakah terdapat missing value & duplicate data\n",
        "print(color.BOLD+\"Memeriksa Missing Value\"+color.END)\n",
        "print(\"Terdapat data hilang?\",jamur_df.isnull().values.any())\n",
        "print(\"Terdapat data duplikat?\",jamur_df.duplicated().any())"
      ],
      "metadata": {
        "colab": {
          "base_uri": "https://localhost:8080/"
        },
        "id": "LJYxmzEoYq73",
        "outputId": "28c771a9-c582-48dd-adfb-12c12d314b77"
      },
      "execution_count": null,
      "outputs": [
        {
          "output_type": "stream",
          "name": "stdout",
          "text": [
            "\u001b[1mMemeriksa Missing Value\u001b[0m\n",
            "Terdapat data hilang? False\n",
            "Terdapat data duplikat? False\n"
          ]
        }
      ]
    },
    {
      "cell_type": "markdown",
      "source": [
        "Namun, terdapat data missing pada bagian stalk-root dengan value ?"
      ],
      "metadata": {
        "id": "0X7yL9SaZs8K"
      }
    },
    {
      "cell_type": "code",
      "source": [
        "#mencari lokasi data yang tidak sesuai\n",
        "display(jamur_df.loc[jamur_df['stalk-root'] == '?'])\n",
        "\n",
        "#hapus data\n",
        "jamur_df.drop(jamur_df.loc[jamur_df['stalk-root']== '?'].index,inplace=True)"
      ],
      "metadata": {
        "colab": {
          "base_uri": "https://localhost:8080/"
        },
        "id": "6H1AmViaZzCi",
        "outputId": "48170af5-219d-4602-8a30-0da7d426a55e"
      },
      "execution_count": null,
      "outputs": [
        {
          "output_type": "display_data",
          "data": {
            "text/plain": [
              "     class cap-shape cap-surface cap-color bruises odor gill-attachment  \\\n",
              "3984     e         x           y         b       t    n               f   \n",
              "4023     p         x           y         e       f    y               f   \n",
              "4076     e         f           y         u       f    n               f   \n",
              "4100     p         x           y         e       f    y               f   \n",
              "4104     p         x           y         n       f    f               f   \n",
              "...    ...       ...         ...       ...     ...  ...             ...   \n",
              "8119     e         k           s         n       f    n               a   \n",
              "8120     e         x           s         n       f    n               a   \n",
              "8121     e         f           s         n       f    n               a   \n",
              "8122     p         k           y         n       f    y               f   \n",
              "8123     e         x           s         n       f    n               a   \n",
              "\n",
              "     gill-spacing gill-size gill-color  ... stalk-surface-below-ring  \\\n",
              "3984            c         b          e  ...                        s   \n",
              "4023            c         n          b  ...                        s   \n",
              "4076            c         n          h  ...                        f   \n",
              "4100            c         n          b  ...                        s   \n",
              "4104            c         n          b  ...                        s   \n",
              "...           ...       ...        ...  ...                      ...   \n",
              "8119            c         b          y  ...                        s   \n",
              "8120            c         b          y  ...                        s   \n",
              "8121            c         b          n  ...                        s   \n",
              "8122            c         n          b  ...                        k   \n",
              "8123            c         b          y  ...                        s   \n",
              "\n",
              "     stalk-color-above-ring stalk-color-below-ring veil-type veil-color  \\\n",
              "3984                      e                      w         p          w   \n",
              "4023                      w                      w         p          w   \n",
              "4076                      w                      w         p          w   \n",
              "4100                      p                      p         p          w   \n",
              "4104                      p                      p         p          w   \n",
              "...                     ...                    ...       ...        ...   \n",
              "8119                      o                      o         p          o   \n",
              "8120                      o                      o         p          n   \n",
              "8121                      o                      o         p          o   \n",
              "8122                      w                      w         p          w   \n",
              "8123                      o                      o         p          o   \n",
              "\n",
              "     ring-number ring-type spore-print-color population habitat  \n",
              "3984           t         e                 w          c       w  \n",
              "4023           o         e                 w          v       p  \n",
              "4076           o         f                 h          y       d  \n",
              "4100           o         e                 w          v       d  \n",
              "4104           o         e                 w          v       l  \n",
              "...          ...       ...               ...        ...     ...  \n",
              "8119           o         p                 b          c       l  \n",
              "8120           o         p                 b          v       l  \n",
              "8121           o         p                 b          c       l  \n",
              "8122           o         e                 w          v       l  \n",
              "8123           o         p                 o          c       l  \n",
              "\n",
              "[2480 rows x 23 columns]"
            ],
            "text/html": [
              "\n",
              "  <div id=\"df-07becd13-dfdb-494a-8c72-13e316f819d4\">\n",
              "    <div class=\"colab-df-container\">\n",
              "      <div>\n",
              "<style scoped>\n",
              "    .dataframe tbody tr th:only-of-type {\n",
              "        vertical-align: middle;\n",
              "    }\n",
              "\n",
              "    .dataframe tbody tr th {\n",
              "        vertical-align: top;\n",
              "    }\n",
              "\n",
              "    .dataframe thead th {\n",
              "        text-align: right;\n",
              "    }\n",
              "</style>\n",
              "<table border=\"1\" class=\"dataframe\">\n",
              "  <thead>\n",
              "    <tr style=\"text-align: right;\">\n",
              "      <th></th>\n",
              "      <th>class</th>\n",
              "      <th>cap-shape</th>\n",
              "      <th>cap-surface</th>\n",
              "      <th>cap-color</th>\n",
              "      <th>bruises</th>\n",
              "      <th>odor</th>\n",
              "      <th>gill-attachment</th>\n",
              "      <th>gill-spacing</th>\n",
              "      <th>gill-size</th>\n",
              "      <th>gill-color</th>\n",
              "      <th>...</th>\n",
              "      <th>stalk-surface-below-ring</th>\n",
              "      <th>stalk-color-above-ring</th>\n",
              "      <th>stalk-color-below-ring</th>\n",
              "      <th>veil-type</th>\n",
              "      <th>veil-color</th>\n",
              "      <th>ring-number</th>\n",
              "      <th>ring-type</th>\n",
              "      <th>spore-print-color</th>\n",
              "      <th>population</th>\n",
              "      <th>habitat</th>\n",
              "    </tr>\n",
              "  </thead>\n",
              "  <tbody>\n",
              "    <tr>\n",
              "      <th>3984</th>\n",
              "      <td>e</td>\n",
              "      <td>x</td>\n",
              "      <td>y</td>\n",
              "      <td>b</td>\n",
              "      <td>t</td>\n",
              "      <td>n</td>\n",
              "      <td>f</td>\n",
              "      <td>c</td>\n",
              "      <td>b</td>\n",
              "      <td>e</td>\n",
              "      <td>...</td>\n",
              "      <td>s</td>\n",
              "      <td>e</td>\n",
              "      <td>w</td>\n",
              "      <td>p</td>\n",
              "      <td>w</td>\n",
              "      <td>t</td>\n",
              "      <td>e</td>\n",
              "      <td>w</td>\n",
              "      <td>c</td>\n",
              "      <td>w</td>\n",
              "    </tr>\n",
              "    <tr>\n",
              "      <th>4023</th>\n",
              "      <td>p</td>\n",
              "      <td>x</td>\n",
              "      <td>y</td>\n",
              "      <td>e</td>\n",
              "      <td>f</td>\n",
              "      <td>y</td>\n",
              "      <td>f</td>\n",
              "      <td>c</td>\n",
              "      <td>n</td>\n",
              "      <td>b</td>\n",
              "      <td>...</td>\n",
              "      <td>s</td>\n",
              "      <td>w</td>\n",
              "      <td>w</td>\n",
              "      <td>p</td>\n",
              "      <td>w</td>\n",
              "      <td>o</td>\n",
              "      <td>e</td>\n",
              "      <td>w</td>\n",
              "      <td>v</td>\n",
              "      <td>p</td>\n",
              "    </tr>\n",
              "    <tr>\n",
              "      <th>4076</th>\n",
              "      <td>e</td>\n",
              "      <td>f</td>\n",
              "      <td>y</td>\n",
              "      <td>u</td>\n",
              "      <td>f</td>\n",
              "      <td>n</td>\n",
              "      <td>f</td>\n",
              "      <td>c</td>\n",
              "      <td>n</td>\n",
              "      <td>h</td>\n",
              "      <td>...</td>\n",
              "      <td>f</td>\n",
              "      <td>w</td>\n",
              "      <td>w</td>\n",
              "      <td>p</td>\n",
              "      <td>w</td>\n",
              "      <td>o</td>\n",
              "      <td>f</td>\n",
              "      <td>h</td>\n",
              "      <td>y</td>\n",
              "      <td>d</td>\n",
              "    </tr>\n",
              "    <tr>\n",
              "      <th>4100</th>\n",
              "      <td>p</td>\n",
              "      <td>x</td>\n",
              "      <td>y</td>\n",
              "      <td>e</td>\n",
              "      <td>f</td>\n",
              "      <td>y</td>\n",
              "      <td>f</td>\n",
              "      <td>c</td>\n",
              "      <td>n</td>\n",
              "      <td>b</td>\n",
              "      <td>...</td>\n",
              "      <td>s</td>\n",
              "      <td>p</td>\n",
              "      <td>p</td>\n",
              "      <td>p</td>\n",
              "      <td>w</td>\n",
              "      <td>o</td>\n",
              "      <td>e</td>\n",
              "      <td>w</td>\n",
              "      <td>v</td>\n",
              "      <td>d</td>\n",
              "    </tr>\n",
              "    <tr>\n",
              "      <th>4104</th>\n",
              "      <td>p</td>\n",
              "      <td>x</td>\n",
              "      <td>y</td>\n",
              "      <td>n</td>\n",
              "      <td>f</td>\n",
              "      <td>f</td>\n",
              "      <td>f</td>\n",
              "      <td>c</td>\n",
              "      <td>n</td>\n",
              "      <td>b</td>\n",
              "      <td>...</td>\n",
              "      <td>s</td>\n",
              "      <td>p</td>\n",
              "      <td>p</td>\n",
              "      <td>p</td>\n",
              "      <td>w</td>\n",
              "      <td>o</td>\n",
              "      <td>e</td>\n",
              "      <td>w</td>\n",
              "      <td>v</td>\n",
              "      <td>l</td>\n",
              "    </tr>\n",
              "    <tr>\n",
              "      <th>...</th>\n",
              "      <td>...</td>\n",
              "      <td>...</td>\n",
              "      <td>...</td>\n",
              "      <td>...</td>\n",
              "      <td>...</td>\n",
              "      <td>...</td>\n",
              "      <td>...</td>\n",
              "      <td>...</td>\n",
              "      <td>...</td>\n",
              "      <td>...</td>\n",
              "      <td>...</td>\n",
              "      <td>...</td>\n",
              "      <td>...</td>\n",
              "      <td>...</td>\n",
              "      <td>...</td>\n",
              "      <td>...</td>\n",
              "      <td>...</td>\n",
              "      <td>...</td>\n",
              "      <td>...</td>\n",
              "      <td>...</td>\n",
              "      <td>...</td>\n",
              "    </tr>\n",
              "    <tr>\n",
              "      <th>8119</th>\n",
              "      <td>e</td>\n",
              "      <td>k</td>\n",
              "      <td>s</td>\n",
              "      <td>n</td>\n",
              "      <td>f</td>\n",
              "      <td>n</td>\n",
              "      <td>a</td>\n",
              "      <td>c</td>\n",
              "      <td>b</td>\n",
              "      <td>y</td>\n",
              "      <td>...</td>\n",
              "      <td>s</td>\n",
              "      <td>o</td>\n",
              "      <td>o</td>\n",
              "      <td>p</td>\n",
              "      <td>o</td>\n",
              "      <td>o</td>\n",
              "      <td>p</td>\n",
              "      <td>b</td>\n",
              "      <td>c</td>\n",
              "      <td>l</td>\n",
              "    </tr>\n",
              "    <tr>\n",
              "      <th>8120</th>\n",
              "      <td>e</td>\n",
              "      <td>x</td>\n",
              "      <td>s</td>\n",
              "      <td>n</td>\n",
              "      <td>f</td>\n",
              "      <td>n</td>\n",
              "      <td>a</td>\n",
              "      <td>c</td>\n",
              "      <td>b</td>\n",
              "      <td>y</td>\n",
              "      <td>...</td>\n",
              "      <td>s</td>\n",
              "      <td>o</td>\n",
              "      <td>o</td>\n",
              "      <td>p</td>\n",
              "      <td>n</td>\n",
              "      <td>o</td>\n",
              "      <td>p</td>\n",
              "      <td>b</td>\n",
              "      <td>v</td>\n",
              "      <td>l</td>\n",
              "    </tr>\n",
              "    <tr>\n",
              "      <th>8121</th>\n",
              "      <td>e</td>\n",
              "      <td>f</td>\n",
              "      <td>s</td>\n",
              "      <td>n</td>\n",
              "      <td>f</td>\n",
              "      <td>n</td>\n",
              "      <td>a</td>\n",
              "      <td>c</td>\n",
              "      <td>b</td>\n",
              "      <td>n</td>\n",
              "      <td>...</td>\n",
              "      <td>s</td>\n",
              "      <td>o</td>\n",
              "      <td>o</td>\n",
              "      <td>p</td>\n",
              "      <td>o</td>\n",
              "      <td>o</td>\n",
              "      <td>p</td>\n",
              "      <td>b</td>\n",
              "      <td>c</td>\n",
              "      <td>l</td>\n",
              "    </tr>\n",
              "    <tr>\n",
              "      <th>8122</th>\n",
              "      <td>p</td>\n",
              "      <td>k</td>\n",
              "      <td>y</td>\n",
              "      <td>n</td>\n",
              "      <td>f</td>\n",
              "      <td>y</td>\n",
              "      <td>f</td>\n",
              "      <td>c</td>\n",
              "      <td>n</td>\n",
              "      <td>b</td>\n",
              "      <td>...</td>\n",
              "      <td>k</td>\n",
              "      <td>w</td>\n",
              "      <td>w</td>\n",
              "      <td>p</td>\n",
              "      <td>w</td>\n",
              "      <td>o</td>\n",
              "      <td>e</td>\n",
              "      <td>w</td>\n",
              "      <td>v</td>\n",
              "      <td>l</td>\n",
              "    </tr>\n",
              "    <tr>\n",
              "      <th>8123</th>\n",
              "      <td>e</td>\n",
              "      <td>x</td>\n",
              "      <td>s</td>\n",
              "      <td>n</td>\n",
              "      <td>f</td>\n",
              "      <td>n</td>\n",
              "      <td>a</td>\n",
              "      <td>c</td>\n",
              "      <td>b</td>\n",
              "      <td>y</td>\n",
              "      <td>...</td>\n",
              "      <td>s</td>\n",
              "      <td>o</td>\n",
              "      <td>o</td>\n",
              "      <td>p</td>\n",
              "      <td>o</td>\n",
              "      <td>o</td>\n",
              "      <td>p</td>\n",
              "      <td>o</td>\n",
              "      <td>c</td>\n",
              "      <td>l</td>\n",
              "    </tr>\n",
              "  </tbody>\n",
              "</table>\n",
              "<p>2480 rows × 23 columns</p>\n",
              "</div>\n",
              "      <button class=\"colab-df-convert\" onclick=\"convertToInteractive('df-07becd13-dfdb-494a-8c72-13e316f819d4')\"\n",
              "              title=\"Convert this dataframe to an interactive table.\"\n",
              "              style=\"display:none;\">\n",
              "        \n",
              "  <svg xmlns=\"http://www.w3.org/2000/svg\" height=\"24px\"viewBox=\"0 0 24 24\"\n",
              "       width=\"24px\">\n",
              "    <path d=\"M0 0h24v24H0V0z\" fill=\"none\"/>\n",
              "    <path d=\"M18.56 5.44l.94 2.06.94-2.06 2.06-.94-2.06-.94-.94-2.06-.94 2.06-2.06.94zm-11 1L8.5 8.5l.94-2.06 2.06-.94-2.06-.94L8.5 2.5l-.94 2.06-2.06.94zm10 10l.94 2.06.94-2.06 2.06-.94-2.06-.94-.94-2.06-.94 2.06-2.06.94z\"/><path d=\"M17.41 7.96l-1.37-1.37c-.4-.4-.92-.59-1.43-.59-.52 0-1.04.2-1.43.59L10.3 9.45l-7.72 7.72c-.78.78-.78 2.05 0 2.83L4 21.41c.39.39.9.59 1.41.59.51 0 1.02-.2 1.41-.59l7.78-7.78 2.81-2.81c.8-.78.8-2.07 0-2.86zM5.41 20L4 18.59l7.72-7.72 1.47 1.35L5.41 20z\"/>\n",
              "  </svg>\n",
              "      </button>\n",
              "      \n",
              "  <style>\n",
              "    .colab-df-container {\n",
              "      display:flex;\n",
              "      flex-wrap:wrap;\n",
              "      gap: 12px;\n",
              "    }\n",
              "\n",
              "    .colab-df-convert {\n",
              "      background-color: #E8F0FE;\n",
              "      border: none;\n",
              "      border-radius: 50%;\n",
              "      cursor: pointer;\n",
              "      display: none;\n",
              "      fill: #1967D2;\n",
              "      height: 32px;\n",
              "      padding: 0 0 0 0;\n",
              "      width: 32px;\n",
              "    }\n",
              "\n",
              "    .colab-df-convert:hover {\n",
              "      background-color: #E2EBFA;\n",
              "      box-shadow: 0px 1px 2px rgba(60, 64, 67, 0.3), 0px 1px 3px 1px rgba(60, 64, 67, 0.15);\n",
              "      fill: #174EA6;\n",
              "    }\n",
              "\n",
              "    [theme=dark] .colab-df-convert {\n",
              "      background-color: #3B4455;\n",
              "      fill: #D2E3FC;\n",
              "    }\n",
              "\n",
              "    [theme=dark] .colab-df-convert:hover {\n",
              "      background-color: #434B5C;\n",
              "      box-shadow: 0px 1px 3px 1px rgba(0, 0, 0, 0.15);\n",
              "      filter: drop-shadow(0px 1px 2px rgba(0, 0, 0, 0.3));\n",
              "      fill: #FFFFFF;\n",
              "    }\n",
              "  </style>\n",
              "\n",
              "      <script>\n",
              "        const buttonEl =\n",
              "          document.querySelector('#df-07becd13-dfdb-494a-8c72-13e316f819d4 button.colab-df-convert');\n",
              "        buttonEl.style.display =\n",
              "          google.colab.kernel.accessAllowed ? 'block' : 'none';\n",
              "\n",
              "        async function convertToInteractive(key) {\n",
              "          const element = document.querySelector('#df-07becd13-dfdb-494a-8c72-13e316f819d4');\n",
              "          const dataTable =\n",
              "            await google.colab.kernel.invokeFunction('convertToInteractive',\n",
              "                                                     [key], {});\n",
              "          if (!dataTable) return;\n",
              "\n",
              "          const docLinkHtml = 'Like what you see? Visit the ' +\n",
              "            '<a target=\"_blank\" href=https://colab.research.google.com/notebooks/data_table.ipynb>data table notebook</a>'\n",
              "            + ' to learn more about interactive tables.';\n",
              "          element.innerHTML = '';\n",
              "          dataTable['output_type'] = 'display_data';\n",
              "          await google.colab.output.renderOutput(dataTable, element);\n",
              "          const docLink = document.createElement('div');\n",
              "          docLink.innerHTML = docLinkHtml;\n",
              "          element.appendChild(docLink);\n",
              "        }\n",
              "      </script>\n",
              "    </div>\n",
              "  </div>\n",
              "  "
            ]
          },
          "metadata": {}
        }
      ]
    },
    {
      "cell_type": "markdown",
      "source": [
        "### Data Pengganggu"
      ],
      "metadata": {
        "id": "qi-tkUBMZA1N"
      }
    },
    {
      "cell_type": "markdown",
      "source": [
        "Karena tidak ada data bertipe numerik, maka gunakan unique value untuk melakukan pengecekan data pengganggu"
      ],
      "metadata": {
        "id": "OnR-vWf9ZI5E"
      }
    },
    {
      "cell_type": "code",
      "source": [
        "jamur_df_unique = ['class', 'cap-shape', 'cap-surface', 'cap-color', 'bruises', 'odor',\n",
        "       'gill-attachment', 'gill-spacing', 'gill-size', 'gill-color',\n",
        "       'stalk-shape', 'stalk-root', 'stalk-surface-above-ring',\n",
        "       'stalk-surface-below-ring', 'stalk-color-above-ring',\n",
        "       'stalk-color-below-ring', 'veil-type', 'veil-color', 'ring-number',\n",
        "       'ring-type', 'spore-print-color', 'population', 'habitat']\n",
        "for i in range(0,len(jamur_df_unique)):\n",
        "  print(\"{0}\".format(jamur_df_unique[i]),jamur_df[jamur_df_unique[i]].unique())"
      ],
      "metadata": {
        "colab": {
          "base_uri": "https://localhost:8080/"
        },
        "id": "2bedhhFlYwEl",
        "outputId": "ea852278-d364-4fa8-f2b0-4cc2db48e075"
      },
      "execution_count": null,
      "outputs": [
        {
          "output_type": "stream",
          "name": "stdout",
          "text": [
            "class ['p' 'e']\n",
            "cap-shape ['x' 'b' 's' 'f' 'k' 'c']\n",
            "cap-surface ['s' 'y' 'f' 'g']\n",
            "cap-color ['n' 'y' 'w' 'g' 'e' 'p' 'b' 'c']\n",
            "bruises ['t' 'f']\n",
            "odor ['p' 'a' 'l' 'n' 'f' 'c' 'm']\n",
            "gill-attachment ['f' 'a']\n",
            "gill-spacing ['c' 'w']\n",
            "gill-size ['n' 'b']\n",
            "gill-color ['k' 'n' 'g' 'p' 'w' 'h' 'u' 'r' 'y']\n",
            "stalk-shape ['e' 't']\n",
            "stalk-root ['e' 'c' 'b' 'r']\n",
            "stalk-surface-above-ring ['s' 'f' 'k' 'y']\n",
            "stalk-surface-below-ring ['s' 'f' 'y' 'k']\n",
            "stalk-color-above-ring ['w' 'g' 'p' 'n' 'b' 'c' 'y']\n",
            "stalk-color-below-ring ['w' 'p' 'g' 'b' 'n' 'c' 'y']\n",
            "veil-type ['p']\n",
            "veil-color ['w' 'y']\n",
            "ring-number ['o' 't' 'n']\n",
            "ring-type ['p' 'e' 'l' 'n']\n",
            "spore-print-color ['k' 'n' 'u' 'h' 'r' 'w']\n",
            "population ['s' 'n' 'a' 'v' 'y' 'c']\n",
            "habitat ['u' 'g' 'm' 'd' 'p' 'l']\n"
          ]
        }
      ]
    },
    {
      "cell_type": "markdown",
      "source": [
        "Tidak ada data pengganggu"
      ],
      "metadata": {
        "id": "xmXSW2yTanYD"
      }
    },
    {
      "cell_type": "markdown",
      "source": [
        "## Visualisasi Data"
      ],
      "metadata": {
        "id": "d7w3-hQlbYyf"
      }
    },
    {
      "cell_type": "code",
      "source": [
        "import warnings # tambahan agar tidak muncul warnings saat running\n",
        "warnings.simplefilter(\"ignore\")"
      ],
      "metadata": {
        "id": "71xnzP_XbuwL"
      },
      "execution_count": null,
      "outputs": []
    },
    {
      "cell_type": "code",
      "source": [
        "# membuat plot untuk melihat visualisasi data\n",
        "dfhisto=['class', 'cap-shape', 'cap-surface', 'cap-color', 'bruises', 'odor',\n",
        "       'gill-attachment', 'gill-spacing', 'gill-size', 'gill-color',\n",
        "       'stalk-shape', 'stalk-root', 'stalk-surface-above-ring',\n",
        "       'stalk-surface-below-ring', 'stalk-color-above-ring',\n",
        "       'stalk-color-below-ring', 'veil-type', 'veil-color', 'ring-number',\n",
        "       'ring-type', 'spore-print-color', 'population', 'habitat']\n",
        "\n",
        "for i in range (0,len(dfhisto)):\n",
        "    plt.figure(figsize=(25,5))\n",
        "    sns.countplot(jamur_df[dfhisto[i]])\n",
        "    plt.show()"
      ],
      "metadata": {
        "colab": {
          "base_uri": "https://localhost:8080/"
        },
        "id": "ypY6Jbn7ba4G",
        "outputId": "a5d16a8a-3ca0-4225-eb9a-4cb2478c33a9"
      },
      "execution_count": null,
      "outputs": [
        {
          "output_type": "display_data",
          "data": {
            "text/plain": [
              "<Figure size 1800x360 with 1 Axes>"
            ],
            "image/png": "[encoded data removed]"
          },
          "metadata": {
            "needs_background": "light"
          }
        },
        {
          "output_type": "display_data",
          "data": {
            "text/plain": [
              "<Figure size 1800x360 with 1 Axes>"
            ],
            "image/png": "[encoded data removed]"
          },
          "metadata": {
            "needs_background": "light"
          }
        },
        {
          "output_type": "display_data",
          "data": {
            "text/plain": [
              "<Figure size 1800x360 with 1 Axes>"
            ],
            "image/png": "[encoded data removed]"
          },
          "metadata": {
            "needs_background": "light"
          }
        },
        {
          "output_type": "display_data",
          "data": {
            "text/plain": [
              "<Figure size 1800x360 with 1 Axes>"
            ],
            "image/png": "[encoded data removed]"
          },
          "metadata": {
            "needs_background": "light"
          }
        },
        {
          "output_type": "display_data",
          "data": {
            "text/plain": [
              "<Figure size 1800x360 with 1 Axes>"
            ],
            "image/png": "[encoded data removed]"
          },
          "metadata": {
            "needs_background": "light"
          }
        },
        {
          "output_type": "display_data",
          "data": {
            "text/plain": [
              "<Figure size 1800x360 with 1 Axes>"
            ],
            "image/png": "[encoded data removed]"
          },
          "metadata": {
            "needs_background": "light"
          }
        },
        {
          "output_type": "display_data",
          "data": {
            "text/plain": [
              "<Figure size 1800x360 with 1 Axes>"
            ],
            "image/png": "[encoded data removed]"
          },
          "metadata": {
            "needs_background": "light"
          }
        },
        {
          "output_type": "display_data",
          "data": {
            "text/plain": [
              "<Figure size 1800x360 with 1 Axes>"
            ],
            "image/png": "[encoded data removed]"
          },
          "metadata": {
            "needs_background": "light"
          }
        },
        {
          "output_type": "display_data",
          "data": {
            "text/plain": [
              "<Figure size 1800x360 with 1 Axes>"
            ],
            "image/png": "[encoded data removed]"
          },
          "metadata": {
            "needs_background": "light"
          }
        },
        {
          "output_type": "display_data",
          "data": {
            "text/plain": [
              "<Figure size 1800x360 with 1 Axes>"
            ],
            "image/png": "[encoded data removed]"
          },
          "metadata": {
            "needs_background": "light"
          }
        },
        {
          "output_type": "display_data",
          "data": {
            "text/plain": [
              "<Figure size 1800x360 with 1 Axes>"
            ],
            "image/png": "[encoded data removed]"
          },
          "metadata": {
            "needs_background": "light"
          }
        },
        {
          "output_type": "display_data",
          "data": {
            "text/plain": [
              "<Figure size 1800x360 with 1 Axes>"
            ],
            "image/png": "[encoded data removed]"
          },
          "metadata": {
            "needs_background": "light"
          }
        },
        {
          "output_type": "display_data",
          "data": {
            "text/plain": [
              "<Figure size 1800x360 with 1 Axes>"
            ],
            "image/png": "[encoded data removed]"
          },
          "metadata": {
            "needs_background": "light"
          }
        },
        {
          "output_type": "display_data",
          "data": {
            "text/plain": [
              "<Figure size 1800x360 with 1 Axes>"
            ],
            "image/png": "[encoded data removed]"
          },
          "metadata": {
            "needs_background": "light"
          }
        },
        {
          "output_type": "display_data",
          "data": {
            "text/plain": [
              "<Figure size 1800x360 with 1 Axes>"
            ],
            "image/png": "[encoded data removed]"
          },
          "metadata": {
            "needs_background": "light"
          }
        },
        {
          "output_type": "display_data",
          "data": {
            "text/plain": [
              "<Figure size 1800x360 with 1 Axes>"
            ],
            "image/png": "[encoded data removed]"
          },
          "metadata": {
            "needs_background": "light"
          }
        },
        {
          "output_type": "display_data",
          "data": {
            "text/plain": [
              "<Figure size 1800x360 with 1 Axes>"
            ],
            "image/png": "[encoded data removed]"
          },
          "metadata": {
            "needs_background": "light"
          }
        },
        {
          "output_type": "display_data",
          "data": {
            "text/plain": [
              "<Figure size 1800x360 with 1 Axes>"
            ],
            "image/png": "[encoded data removed]"
          },
          "metadata": {
            "needs_background": "light"
          }
        },
        {
          "output_type": "display_data",
          "data": {
            "text/plain": [
              "<Figure size 1800x360 with 1 Axes>"
            ],
            "image/png": "[encoded data removed]"
          },
          "metadata": {
            "needs_background": "light"
          }
        },
        {
          "output_type": "display_data",
          "data": {
            "text/plain": [
              "<Figure size 1800x360 with 1 Axes>"
            ],
            "image/png": "[encoded data removed]"
          },
          "metadata": {
            "needs_background": "light"
          }
        },
        {
          "output_type": "display_data",
          "data": {
            "text/plain": [
              "<Figure size 1800x360 with 1 Axes>"
            ],
            "image/png": "[encoded data removed]"
          },
          "metadata": {
            "needs_background": "light"
          }
        },
        {
          "output_type": "display_data",
          "data": {
            "text/plain": [
              "<Figure size 1800x360 with 1 Axes>"
            ],
            "image/png": "[encoded data removed]"
          },
          "metadata": {
            "needs_background": "light"
          }
        },
        {
          "output_type": "display_data",
          "data": {
            "text/plain": [
              "<Figure size 1800x360 with 1 Axes>"
            ],
            "image/png": "[encoded data removed]"
          },
          "metadata": {
            "needs_background": "light"
          }
        }
      ]
    },
    {
      "cell_type": "markdown",
      "source": [
        "## Encoding"
      ],
      "metadata": {
        "id": "G12Y-d6qcpF6"
      }
    },
    {
      "cell_type": "markdown",
      "source": [
        "Data nominal akan dilakukan **onehot encoding**\n",
        "\n",
        "Data binary akan dilakukan **ordinal encoding**"
      ],
      "metadata": {
        "id": "-_H4VWQicsDD"
      }
    },
    {
      "cell_type": "code",
      "source": [
        "#ganti nama kolom\n",
        "jamur_df.rename(columns={'class': 'target'}, inplace=True)"
      ],
      "metadata": {
        "id": "G7rx8IWxd6yL"
      },
      "execution_count": null,
      "outputs": []
    },
    {
      "cell_type": "code",
      "source": [
        "# OneHot encoding\n",
        "i = ['cap-shape', 'cap-surface', 'cap-color', 'odor',\n",
        "       'gill-attachment', 'gill-spacing', 'gill-size', 'gill-color',\n",
        "       'stalk-shape', 'stalk-root', 'stalk-surface-above-ring',\n",
        "       'stalk-surface-below-ring', 'stalk-color-above-ring',\n",
        "       'stalk-color-below-ring', 'veil-type', 'veil-color', 'ring-number',\n",
        "       'ring-type', 'spore-print-color', 'population', 'habitat']\n",
        "OneHot = pd.get_dummies(jamur_df, columns = i)\n",
        "jamur_df = OneHot\n",
        "\n",
        "# Ordinal encoding\n",
        "jamur_df.target = pd.Categorical(jamur_df.target)\n",
        "jamur_df['target'] = jamur_df.target.cat.codes\n",
        "jamur_df.bruises = pd.Categorical(jamur_df.bruises)\n",
        "jamur_df['bruises'] = jamur_df.bruises.cat.codes\n",
        "\n",
        "jamur_df"
      ],
      "metadata": {
        "colab": {
          "base_uri": "https://localhost:8080/"
        },
        "id": "ytfwgi2lc112",
        "outputId": "c7dced7e-fd7f-4b28-d1a8-5a282fef3eb9"
      },
      "execution_count": null,
      "outputs": [
        {
          "output_type": "execute_result",
          "data": {
            "text/plain": [
              "      target  bruises  cap-shape_b  cap-shape_c  cap-shape_f  cap-shape_k  \\\n",
              "0          1        1            0            0            0            0   \n",
              "1          0        1            0            0            0            0   \n",
              "2          0        1            1            0            0            0   \n",
              "3          1        1            0            0            0            0   \n",
              "4          0        0            0            0            0            0   \n",
              "...      ...      ...          ...          ...          ...          ...   \n",
              "7986       0        0            1            0            0            0   \n",
              "8001       0        0            0            0            0            0   \n",
              "8038       0        1            0            0            0            0   \n",
              "8095       1        0            0            0            0            0   \n",
              "8114       1        0            0            0            1            0   \n",
              "\n",
              "      cap-shape_s  cap-shape_x  cap-surface_f  cap-surface_g  ...  \\\n",
              "0               0            1              0              0  ...   \n",
              "1               0            1              0              0  ...   \n",
              "2               0            0              0              0  ...   \n",
              "3               0            1              0              0  ...   \n",
              "4               0            1              0              0  ...   \n",
              "...           ...          ...            ...            ...  ...   \n",
              "7986            0            0              0              0  ...   \n",
              "8001            0            1              0              0  ...   \n",
              "8038            0            1              0              0  ...   \n",
              "8095            0            1              0              0  ...   \n",
              "8114            0            0              0              0  ...   \n",
              "\n",
              "      population_n  population_s  population_v  population_y  habitat_d  \\\n",
              "0                0             1             0             0          0   \n",
              "1                1             0             0             0          0   \n",
              "2                1             0             0             0          0   \n",
              "3                0             1             0             0          0   \n",
              "4                0             0             0             0          0   \n",
              "...            ...           ...           ...           ...        ...   \n",
              "7986             0             0             0             1          0   \n",
              "8001             0             0             0             1          0   \n",
              "8038             0             0             0             1          0   \n",
              "8095             0             0             0             0          1   \n",
              "8114             0             0             0             0          1   \n",
              "\n",
              "      habitat_g  habitat_l  habitat_m  habitat_p  habitat_u  \n",
              "0             0          0          0          0          1  \n",
              "1             1          0          0          0          0  \n",
              "2             0          0          1          0          0  \n",
              "3             0          0          0          0          1  \n",
              "4             1          0          0          0          0  \n",
              "...         ...        ...        ...        ...        ...  \n",
              "7986          0          0          0          1          0  \n",
              "8001          0          0          0          1          0  \n",
              "8038          0          0          0          1          0  \n",
              "8095          0          0          0          0          0  \n",
              "8114          0          0          0          0          0  \n",
              "\n",
              "[5644 rows x 98 columns]"
            ],
            "text/html": [
              "\n",
              "  <div id=\"df-571ec795-ad9a-467c-b2a2-0d26acead43c\">\n",
              "    <div class=\"colab-df-container\">\n",
              "      <div>\n",
              "<style scoped>\n",
              "    .dataframe tbody tr th:only-of-type {\n",
              "        vertical-align: middle;\n",
              "    }\n",
              "\n",
              "    .dataframe tbody tr th {\n",
              "        vertical-align: top;\n",
              "    }\n",
              "\n",
              "    .dataframe thead th {\n",
              "        text-align: right;\n",
              "    }\n",
              "</style>\n",
              "<table border=\"1\" class=\"dataframe\">\n",
              "  <thead>\n",
              "    <tr style=\"text-align: right;\">\n",
              "      <th></th>\n",
              "      <th>target</th>\n",
              "      <th>bruises</th>\n",
              "      <th>cap-shape_b</th>\n",
              "      <th>cap-shape_c</th>\n",
              "      <th>cap-shape_f</th>\n",
              "      <th>cap-shape_k</th>\n",
              "      <th>cap-shape_s</th>\n",
              "      <th>cap-shape_x</th>\n",
              "      <th>cap-surface_f</th>\n",
              "      <th>cap-surface_g</th>\n",
              "      <th>...</th>\n",
              "      <th>population_n</th>\n",
              "      <th>population_s</th>\n",
              "      <th>population_v</th>\n",
              "      <th>population_y</th>\n",
              "      <th>habitat_d</th>\n",
              "      <th>habitat_g</th>\n",
              "      <th>habitat_l</th>\n",
              "      <th>habitat_m</th>\n",
              "      <th>habitat_p</th>\n",
              "      <th>habitat_u</th>\n",
              "    </tr>\n",
              "  </thead>\n",
              "  <tbody>\n",
              "    <tr>\n",
              "      <th>0</th>\n",
              "      <td>1</td>\n",
              "      <td>1</td>\n",
              "      <td>0</td>\n",
              "      <td>0</td>\n",
              "      <td>0</td>\n",
              "      <td>0</td>\n",
              "      <td>0</td>\n",
              "      <td>1</td>\n",
              "      <td>0</td>\n",
              "      <td>0</td>\n",
              "      <td>...</td>\n",
              "      <td>0</td>\n",
              "      <td>1</td>\n",
              "      <td>0</td>\n",
              "      <td>0</td>\n",
              "      <td>0</td>\n",
              "      <td>0</td>\n",
              "      <td>0</td>\n",
              "      <td>0</td>\n",
              "      <td>0</td>\n",
              "      <td>1</td>\n",
              "    </tr>\n",
              "    <tr>\n",
              "      <th>1</th>\n",
              "      <td>0</td>\n",
              "      <td>1</td>\n",
              "      <td>0</td>\n",
              "      <td>0</td>\n",
              "      <td>0</td>\n",
              "      <td>0</td>\n",
              "      <td>0</td>\n",
              "      <td>1</td>\n",
              "      <td>0</td>\n",
              "      <td>0</td>\n",
              "      <td>...</td>\n",
              "      <td>1</td>\n",
              "      <td>0</td>\n",
              "      <td>0</td>\n",
              "      <td>0</td>\n",
              "      <td>0</td>\n",
              "      <td>1</td>\n",
              "      <td>0</td>\n",
              "      <td>0</td>\n",
              "      <td>0</td>\n",
              "      <td>0</td>\n",
              "    </tr>\n",
              "    <tr>\n",
              "      <th>2</th>\n",
              "      <td>0</td>\n",
              "      <td>1</td>\n",
              "      <td>1</td>\n",
              "      <td>0</td>\n",
              "      <td>0</td>\n",
              "      <td>0</td>\n",
              "      <td>0</td>\n",
              "      <td>0</td>\n",
              "      <td>0</td>\n",
              "      <td>0</td>\n",
              "      <td>...</td>\n",
              "      <td>1</td>\n",
              "      <td>0</td>\n",
              "      <td>0</td>\n",
              "      <td>0</td>\n",
              "      <td>0</td>\n",
              "      <td>0</td>\n",
              "      <td>0</td>\n",
              "      <td>1</td>\n",
              "      <td>0</td>\n",
              "      <td>0</td>\n",
              "    </tr>\n",
              "    <tr>\n",
              "      <th>3</th>\n",
              "      <td>1</td>\n",
              "      <td>1</td>\n",
              "      <td>0</td>\n",
              "      <td>0</td>\n",
              "      <td>0</td>\n",
              "      <td>0</td>\n",
              "      <td>0</td>\n",
              "      <td>1</td>\n",
              "      <td>0</td>\n",
              "      <td>0</td>\n",
              "      <td>...</td>\n",
              "      <td>0</td>\n",
              "      <td>1</td>\n",
              "      <td>0</td>\n",
              "      <td>0</td>\n",
              "      <td>0</td>\n",
              "      <td>0</td>\n",
              "      <td>0</td>\n",
              "      <td>0</td>\n",
              "      <td>0</td>\n",
              "      <td>1</td>\n",
              "    </tr>\n",
              "    <tr>\n",
              "      <th>4</th>\n",
              "      <td>0</td>\n",
              "      <td>0</td>\n",
              "      <td>0</td>\n",
              "      <td>0</td>\n",
              "      <td>0</td>\n",
              "      <td>0</td>\n",
              "      <td>0</td>\n",
              "      <td>1</td>\n",
              "      <td>0</td>\n",
              "      <td>0</td>\n",
              "      <td>...</td>\n",
              "      <td>0</td>\n",
              "      <td>0</td>\n",
              "      <td>0</td>\n",
              "      <td>0</td>\n",
              "      <td>0</td>\n",
              "      <td>1</td>\n",
              "      <td>0</td>\n",
              "      <td>0</td>\n",
              "      <td>0</td>\n",
              "      <td>0</td>\n",
              "    </tr>\n",
              "    <tr>\n",
              "      <th>...</th>\n",
              "      <td>...</td>\n",
              "      <td>...</td>\n",
              "      <td>...</td>\n",
              "      <td>...</td>\n",
              "      <td>...</td>\n",
              "      <td>...</td>\n",
              "      <td>...</td>\n",
              "      <td>...</td>\n",
              "      <td>...</td>\n",
              "      <td>...</td>\n",
              "      <td>...</td>\n",
              "      <td>...</td>\n",
              "      <td>...</td>\n",
              "      <td>...</td>\n",
              "      <td>...</td>\n",
              "      <td>...</td>\n",
              "      <td>...</td>\n",
              "      <td>...</td>\n",
              "      <td>...</td>\n",
              "      <td>...</td>\n",
              "      <td>...</td>\n",
              "    </tr>\n",
              "    <tr>\n",
              "      <th>7986</th>\n",
              "      <td>0</td>\n",
              "      <td>0</td>\n",
              "      <td>1</td>\n",
              "      <td>0</td>\n",
              "      <td>0</td>\n",
              "      <td>0</td>\n",
              "      <td>0</td>\n",
              "      <td>0</td>\n",
              "      <td>0</td>\n",
              "      <td>0</td>\n",
              "      <td>...</td>\n",
              "      <td>0</td>\n",
              "      <td>0</td>\n",
              "      <td>0</td>\n",
              "      <td>1</td>\n",
              "      <td>0</td>\n",
              "      <td>0</td>\n",
              "      <td>0</td>\n",
              "      <td>0</td>\n",
              "      <td>1</td>\n",
              "      <td>0</td>\n",
              "    </tr>\n",
              "    <tr>\n",
              "      <th>8001</th>\n",
              "      <td>0</td>\n",
              "      <td>0</td>\n",
              "      <td>0</td>\n",
              "      <td>0</td>\n",
              "      <td>0</td>\n",
              "      <td>0</td>\n",
              "      <td>0</td>\n",
              "      <td>1</td>\n",
              "      <td>0</td>\n",
              "      <td>0</td>\n",
              "      <td>...</td>\n",
              "      <td>0</td>\n",
              "      <td>0</td>\n",
              "      <td>0</td>\n",
              "      <td>1</td>\n",
              "      <td>0</td>\n",
              "      <td>0</td>\n",
              "      <td>0</td>\n",
              "      <td>0</td>\n",
              "      <td>1</td>\n",
              "      <td>0</td>\n",
              "    </tr>\n",
              "    <tr>\n",
              "      <th>8038</th>\n",
              "      <td>0</td>\n",
              "      <td>1</td>\n",
              "      <td>0</td>\n",
              "      <td>0</td>\n",
              "      <td>0</td>\n",
              "      <td>0</td>\n",
              "      <td>0</td>\n",
              "      <td>1</td>\n",
              "      <td>0</td>\n",
              "      <td>0</td>\n",
              "      <td>...</td>\n",
              "      <td>0</td>\n",
              "      <td>0</td>\n",
              "      <td>0</td>\n",
              "      <td>1</td>\n",
              "      <td>0</td>\n",
              "      <td>0</td>\n",
              "      <td>0</td>\n",
              "      <td>0</td>\n",
              "      <td>1</td>\n",
              "      <td>0</td>\n",
              "    </tr>\n",
              "    <tr>\n",
              "      <th>8095</th>\n",
              "      <td>1</td>\n",
              "      <td>0</td>\n",
              "      <td>0</td>\n",
              "      <td>0</td>\n",
              "      <td>0</td>\n",
              "      <td>0</td>\n",
              "      <td>0</td>\n",
              "      <td>1</td>\n",
              "      <td>0</td>\n",
              "      <td>0</td>\n",
              "      <td>...</td>\n",
              "      <td>0</td>\n",
              "      <td>0</td>\n",
              "      <td>0</td>\n",
              "      <td>0</td>\n",
              "      <td>1</td>\n",
              "      <td>0</td>\n",
              "      <td>0</td>\n",
              "      <td>0</td>\n",
              "      <td>0</td>\n",
              "      <td>0</td>\n",
              "    </tr>\n",
              "    <tr>\n",
              "      <th>8114</th>\n",
              "      <td>1</td>\n",
              "      <td>0</td>\n",
              "      <td>0</td>\n",
              "      <td>0</td>\n",
              "      <td>1</td>\n",
              "      <td>0</td>\n",
              "      <td>0</td>\n",
              "      <td>0</td>\n",
              "      <td>0</td>\n",
              "      <td>0</td>\n",
              "      <td>...</td>\n",
              "      <td>0</td>\n",
              "      <td>0</td>\n",
              "      <td>0</td>\n",
              "      <td>0</td>\n",
              "      <td>1</td>\n",
              "      <td>0</td>\n",
              "      <td>0</td>\n",
              "      <td>0</td>\n",
              "      <td>0</td>\n",
              "      <td>0</td>\n",
              "    </tr>\n",
              "  </tbody>\n",
              "</table>\n",
              "<p>5644 rows × 98 columns</p>\n",
              "</div>\n",
              "      <button class=\"colab-df-convert\" onclick=\"convertToInteractive('df-571ec795-ad9a-467c-b2a2-0d26acead43c')\"\n",
              "              title=\"Convert this dataframe to an interactive table.\"\n",
              "              style=\"display:none;\">\n",
              "        \n",
              "  <svg xmlns=\"http://www.w3.org/2000/svg\" height=\"24px\"viewBox=\"0 0 24 24\"\n",
              "       width=\"24px\">\n",
              "    <path d=\"M0 0h24v24H0V0z\" fill=\"none\"/>\n",
              "    <path d=\"M18.56 5.44l.94 2.06.94-2.06 2.06-.94-2.06-.94-.94-2.06-.94 2.06-2.06.94zm-11 1L8.5 8.5l.94-2.06 2.06-.94-2.06-.94L8.5 2.5l-.94 2.06-2.06.94zm10 10l.94 2.06.94-2.06 2.06-.94-2.06-.94-.94-2.06-.94 2.06-2.06.94z\"/><path d=\"M17.41 7.96l-1.37-1.37c-.4-.4-.92-.59-1.43-.59-.52 0-1.04.2-1.43.59L10.3 9.45l-7.72 7.72c-.78.78-.78 2.05 0 2.83L4 21.41c.39.39.9.59 1.41.59.51 0 1.02-.2 1.41-.59l7.78-7.78 2.81-2.81c.8-.78.8-2.07 0-2.86zM5.41 20L4 18.59l7.72-7.72 1.47 1.35L5.41 20z\"/>\n",
              "  </svg>\n",
              "      </button>\n",
              "      \n",
              "  <style>\n",
              "    .colab-df-container {\n",
              "      display:flex;\n",
              "      flex-wrap:wrap;\n",
              "      gap: 12px;\n",
              "    }\n",
              "\n",
              "    .colab-df-convert {\n",
              "      background-color: #E8F0FE;\n",
              "      border: none;\n",
              "      border-radius: 50%;\n",
              "      cursor: pointer;\n",
              "      display: none;\n",
              "      fill: #1967D2;\n",
              "      height: 32px;\n",
              "      padding: 0 0 0 0;\n",
              "      width: 32px;\n",
              "    }\n",
              "\n",
              "    .colab-df-convert:hover {\n",
              "      background-color: #E2EBFA;\n",
              "      box-shadow: 0px 1px 2px rgba(60, 64, 67, 0.3), 0px 1px 3px 1px rgba(60, 64, 67, 0.15);\n",
              "      fill: #174EA6;\n",
              "    }\n",
              "\n",
              "    [theme=dark] .colab-df-convert {\n",
              "      background-color: #3B4455;\n",
              "      fill: #D2E3FC;\n",
              "    }\n",
              "\n",
              "    [theme=dark] .colab-df-convert:hover {\n",
              "      background-color: #434B5C;\n",
              "      box-shadow: 0px 1px 3px 1px rgba(0, 0, 0, 0.15);\n",
              "      filter: drop-shadow(0px 1px 2px rgba(0, 0, 0, 0.3));\n",
              "      fill: #FFFFFF;\n",
              "    }\n",
              "  </style>\n",
              "\n",
              "      <script>\n",
              "        const buttonEl =\n",
              "          document.querySelector('#df-571ec795-ad9a-467c-b2a2-0d26acead43c button.colab-df-convert');\n",
              "        buttonEl.style.display =\n",
              "          google.colab.kernel.accessAllowed ? 'block' : 'none';\n",
              "\n",
              "        async function convertToInteractive(key) {\n",
              "          const element = document.querySelector('#df-571ec795-ad9a-467c-b2a2-0d26acead43c');\n",
              "          const dataTable =\n",
              "            await google.colab.kernel.invokeFunction('convertToInteractive',\n",
              "                                                     [key], {});\n",
              "          if (!dataTable) return;\n",
              "\n",
              "          const docLinkHtml = 'Like what you see? Visit the ' +\n",
              "            '<a target=\"_blank\" href=https://colab.research.google.com/notebooks/data_table.ipynb>data table notebook</a>'\n",
              "            + ' to learn more about interactive tables.';\n",
              "          element.innerHTML = '';\n",
              "          dataTable['output_type'] = 'display_data';\n",
              "          await google.colab.output.renderOutput(dataTable, element);\n",
              "          const docLink = document.createElement('div');\n",
              "          docLink.innerHTML = docLinkHtml;\n",
              "          element.appendChild(docLink);\n",
              "        }\n",
              "      </script>\n",
              "    </div>\n",
              "  </div>\n",
              "  "
            ]
          },
          "metadata": {},
          "execution_count": 48
        }
      ]
    },
    {
      "cell_type": "markdown",
      "source": [
        "## Sampling"
      ],
      "metadata": {
        "id": "x3dWPodRe5sj"
      }
    },
    {
      "cell_type": "code",
      "source": [
        "jamur_df['target'].value_counts()"
      ],
      "metadata": {
        "colab": {
          "base_uri": "https://localhost:8080/"
        },
        "id": "WG8tsNsQe81x",
        "outputId": "e827b071-a331-46d6-826e-0c1c41d16556"
      },
      "execution_count": null,
      "outputs": [
        {
          "output_type": "execute_result",
          "data": {
            "text/plain": [
              "0    3488\n",
              "1    2156\n",
              "Name: target, dtype: int64"
            ]
          },
          "metadata": {},
          "execution_count": 49
        }
      ]
    },
    {
      "cell_type": "code",
      "source": [
        "target0,target1 = jamur_df['target'].value_counts()\n",
        "data0 = jamur_df[jamur_df['target']==0]\n",
        "data1 = jamur_df[jamur_df['target']==1]\n",
        "\n",
        "data1 = data1.sample(target0,replace=True)\n",
        "jamur_df = pd.concat([data0,data1],axis=0)\n",
        "\n",
        "jamur_df['target'].value_counts()"
      ],
      "metadata": {
        "colab": {
          "base_uri": "https://localhost:8080/"
        },
        "id": "Ic549BFMT1Le",
        "outputId": "0dd8d677-b690-409d-8ebf-97a2bd56c3ab"
      },
      "execution_count": null,
      "outputs": [
        {
          "output_type": "execute_result",
          "data": {
            "text/plain": [
              "0    3488\n",
              "1    3488\n",
              "Name: target, dtype: int64"
            ]
          },
          "metadata": {},
          "execution_count": 50
        }
      ]
    },
    {
      "cell_type": "markdown",
      "source": [
        "## Feature Selection"
      ],
      "metadata": {
        "id": "5Bycf3u_fmhH"
      }
    },
    {
      "cell_type": "code",
      "source": [
        "print(jamur_df.columns.tolist())"
      ],
      "metadata": {
        "colab": {
          "base_uri": "https://localhost:8080/"
        },
        "id": "n2M1vt-RgQUM",
        "outputId": "6969aaff-bac5-48e7-8793-5d6b76d53a99"
      },
      "execution_count": null,
      "outputs": [
        {
          "output_type": "stream",
          "name": "stdout",
          "text": [
            "['target', 'bruises', 'cap-shape_b', 'cap-shape_c', 'cap-shape_f', 'cap-shape_k', 'cap-shape_s', 'cap-shape_x', 'cap-surface_f', 'cap-surface_g', 'cap-surface_s', 'cap-surface_y', 'cap-color_b', 'cap-color_c', 'cap-color_e', 'cap-color_g', 'cap-color_n', 'cap-color_p', 'cap-color_w', 'cap-color_y', 'odor_a', 'odor_c', 'odor_f', 'odor_l', 'odor_m', 'odor_n', 'odor_p', 'gill-attachment_a', 'gill-attachment_f', 'gill-spacing_c', 'gill-spacing_w', 'gill-size_b', 'gill-size_n', 'gill-color_g', 'gill-color_h', 'gill-color_k', 'gill-color_n', 'gill-color_p', 'gill-color_r', 'gill-color_u', 'gill-color_w', 'gill-color_y', 'stalk-shape_e', 'stalk-shape_t', 'stalk-root_b', 'stalk-root_c', 'stalk-root_e', 'stalk-root_r', 'stalk-surface-above-ring_f', 'stalk-surface-above-ring_k', 'stalk-surface-above-ring_s', 'stalk-surface-above-ring_y', 'stalk-surface-below-ring_f', 'stalk-surface-below-ring_k', 'stalk-surface-below-ring_s', 'stalk-surface-below-ring_y', 'stalk-color-above-ring_b', 'stalk-color-above-ring_c', 'stalk-color-above-ring_g', 'stalk-color-above-ring_n', 'stalk-color-above-ring_p', 'stalk-color-above-ring_w', 'stalk-color-above-ring_y', 'stalk-color-below-ring_b', 'stalk-color-below-ring_c', 'stalk-color-below-ring_g', 'stalk-color-below-ring_n', 'stalk-color-below-ring_p', 'stalk-color-below-ring_w', 'stalk-color-below-ring_y', 'veil-type_p', 'veil-color_w', 'veil-color_y', 'ring-number_n', 'ring-number_o', 'ring-number_t', 'ring-type_e', 'ring-type_l', 'ring-type_n', 'ring-type_p', 'spore-print-color_h', 'spore-print-color_k', 'spore-print-color_n', 'spore-print-color_r', 'spore-print-color_u', 'spore-print-color_w', 'population_a', 'population_c', 'population_n', 'population_s', 'population_v', 'population_y', 'habitat_d', 'habitat_g', 'habitat_l', 'habitat_m', 'habitat_p', 'habitat_u']\n"
          ]
        }
      ]
    },
    {
      "cell_type": "code",
      "source": [
        "#meletakkan variabel target di paling akhir\n",
        "jamur_df = jamur_df[['bruises', 'cap-shape_b', 'cap-shape_c', 'cap-shape_f', 'cap-shape_k', 'cap-shape_s', 'cap-shape_x', 'cap-surface_f', 'cap-surface_g', 'cap-surface_s', 'cap-surface_y', 'cap-color_b', 'cap-color_c', 'cap-color_e', 'cap-color_g', 'cap-color_n', 'cap-color_p', 'cap-color_w', 'cap-color_y', 'odor_a', 'odor_c', 'odor_f', 'odor_l', 'odor_m', 'odor_n', 'odor_p', 'gill-attachment_a', 'gill-attachment_f', 'gill-spacing_c', 'gill-spacing_w', 'gill-size_b', 'gill-size_n', 'gill-color_g', 'gill-color_h', 'gill-color_k', 'gill-color_n', 'gill-color_p', 'gill-color_r', 'gill-color_u', 'gill-color_w', 'gill-color_y', 'stalk-shape_e', 'stalk-shape_t', 'stalk-root_b', 'stalk-root_c', 'stalk-root_e', 'stalk-root_r', 'stalk-surface-above-ring_f', 'stalk-surface-above-ring_k', 'stalk-surface-above-ring_s', 'stalk-surface-above-ring_y', 'stalk-surface-below-ring_f', 'stalk-surface-below-ring_k', 'stalk-surface-below-ring_s', 'stalk-surface-below-ring_y', 'stalk-color-above-ring_b', 'stalk-color-above-ring_c', 'stalk-color-above-ring_g', 'stalk-color-above-ring_n', 'stalk-color-above-ring_p', 'stalk-color-above-ring_w', 'stalk-color-above-ring_y', 'stalk-color-below-ring_b', 'stalk-color-below-ring_c', 'stalk-color-below-ring_g', 'stalk-color-below-ring_n', 'stalk-color-below-ring_p', 'stalk-color-below-ring_w', 'stalk-color-below-ring_y', 'veil-type_p', 'veil-color_w', 'veil-color_y', 'ring-number_n', 'ring-number_o', 'ring-number_t', 'ring-type_e', 'ring-type_l', 'ring-type_n', 'ring-type_p', 'spore-print-color_h', 'spore-print-color_k', 'spore-print-color_n', 'spore-print-color_r', 'spore-print-color_u', 'spore-print-color_w', 'population_a', 'population_c', 'population_n', 'population_s', 'population_v', 'population_y', 'habitat_d', 'habitat_g', 'habitat_l', 'habitat_m', 'habitat_p', 'habitat_u','target']]"
      ],
      "metadata": {
        "id": "Xng3BynEf5L0"
      },
      "execution_count": null,
      "outputs": []
    },
    {
      "cell_type": "code",
      "source": [
        "# Feature Selection (Pearson Correlation)\n",
        "print(color.BOLD + color.BLUE + 'Dilakukan seleksi fitur dengan Pearson Correlation' + color.END)\n",
        "plt.figure(figsize = (10,35))\n",
        "korelasi = jamur_df.corr()\n",
        "display(korelasi)\n",
        "korelasisns = np.asarray(jamur_df.corr().loc[:,'target']).reshape(98,1)\n",
        "sns.heatmap(korelasisns, annot = True, cmap = plt.cm.Blues)\n",
        "plt.show()\n",
        "\n",
        "# Akan dicari variabel-variabel yang berkorelasi dengan variabel target (>rata-rata seluruh korelasi)\n",
        "print(color.BOLD + color.RED + 'Didapat nilai absolut korelasi antar variabel dengan variabel output adalah sebagai berikut' + color.END)\n",
        "print(abs(korelasi['target'][1:-1]))\n",
        "korelasi['target'] = korelasi['target'][1:-1]\n",
        "bataskor = abs(korelasi['target'][1:-1]).mean()\n",
        "\n",
        "print('\\n')\n",
        "\n",
        "print('Mean dari korelasi tiap variabel yang ada adalah ' + color.BOLD + '{0}'.format(bataskor) + color.END)\n",
        "print('Sehingga,' + color.BOLD + color.DARKCYAN + ' variabel yang dipilih sebagai hasil seleksi fitur adalah' + color.END)\n",
        "hasilseleksi = abs(korelasi['target'][1:-1])[abs(korelasi['target']) > bataskor]\n",
        "print(hasilseleksi)"
      ],
      "metadata": {
        "colab": {
          "base_uri": "https://localhost:8080/"
        },
        "id": "UNYL3A1Yfoht",
        "outputId": "7046b4a5-f809-4acc-89a6-bacc6b048b3b"
      },
      "execution_count": null,
      "outputs": [
        {
          "output_type": "stream",
          "name": "stdout",
          "text": [
            "\u001b[1m\u001b[94mDilakukan seleksi fitur dengan Pearson Correlation\u001b[0m\n"
          ]
        },
        {
          "output_type": "display_data",
          "data": {
            "text/plain": [
              "              bruises  cap-shape_b  cap-shape_c  cap-shape_f  cap-shape_k  \\\n",
              "bruises      1.000000     0.206122    -0.010159    -0.011566    -0.070103   \n",
              "cap-shape_b  0.206122     1.000000    -0.006412    -0.191005    -0.018755   \n",
              "cap-shape_c -0.010159    -0.006412     1.000000    -0.025643    -0.002518   \n",
              "cap-shape_f -0.011566    -0.191005    -0.025643     1.000000    -0.075003   \n",
              "cap-shape_k -0.070103    -0.018755    -0.002518    -0.075003     1.000000   \n",
              "...               ...          ...          ...          ...          ...   \n",
              "habitat_l   -0.064882     0.036648     0.279561    -0.027625     0.347611   \n",
              "habitat_m    0.209994     0.476938    -0.006241    -0.158905    -0.018255   \n",
              "habitat_p   -0.263896    -0.076978    -0.010900     0.037784    -0.021572   \n",
              "habitat_u    0.167199    -0.060660    -0.008144     0.017855    -0.023820   \n",
              "target      -0.455026    -0.138824     0.029340     0.029219     0.018510   \n",
              "\n",
              "             cap-shape_s  cap-shape_x  cap-surface_f  cap-surface_g  \\\n",
              "bruises        -0.068766    -0.052700      -0.249022       0.035481   \n",
              "cap-shape_b    -0.014836    -0.222338      -0.170114       0.030437   \n",
              "cap-shape_c    -0.001992    -0.029849      -0.022838       0.135175   \n",
              "cap-shape_f    -0.059330    -0.889147       0.025782      -0.015293   \n",
              "cap-shape_k    -0.005826    -0.087307      -0.039027       0.184427   \n",
              "...                  ...          ...            ...            ...   \n",
              "habitat_l      -0.007124    -0.062575      -0.013317       0.342465   \n",
              "habitat_m      -0.014440    -0.036066      -0.165580      -0.007646   \n",
              "habitat_p      -0.025219     0.002392       0.037877      -0.013352   \n",
              "habitat_u       0.244572    -0.020909      -0.105886      -0.009976   \n",
              "target         -0.067884     0.033262      -0.059148       0.035942   \n",
              "\n",
              "             cap-surface_s  ...  population_s  population_v  population_y  \\\n",
              "bruises           0.154310  ...      0.070579      0.059327     -0.062427   \n",
              "cap-shape_b       0.140376  ...      0.118782     -0.110311     -0.138673   \n",
              "cap-shape_c      -0.015824  ...     -0.014187     -0.024032     -0.019419   \n",
              "cap-shape_f      -0.072542  ...     -0.088213      0.062563      0.070876   \n",
              "cap-shape_k      -0.038231  ...     -0.041497     -0.015370     -0.042174   \n",
              "...                    ...  ...           ...           ...           ...   \n",
              "habitat_l        -0.056604  ...     -0.050748      0.049254     -0.069462   \n",
              "habitat_m         0.141523  ...      0.127192     -0.108139     -0.140791   \n",
              "habitat_p        -0.179346  ...     -0.125854      0.026260      0.163433   \n",
              "habitat_u         0.256352  ...      0.142549      0.063137     -0.125696   \n",
              "target            0.050778  ...     -0.054865      0.192124      0.014016   \n",
              "\n",
              "             habitat_d  habitat_g  habitat_l  habitat_m  habitat_p  habitat_u  \\\n",
              "bruises       0.200609  -0.194807  -0.064882   0.209994  -0.263896   0.167199   \n",
              "cap-shape_b  -0.182646   0.063585   0.036648   0.476938  -0.076978  -0.060660   \n",
              "cap-shape_c  -0.024894  -0.020798   0.279561  -0.006241  -0.010900  -0.008144   \n",
              "cap-shape_f   0.021977   0.015747  -0.027625  -0.158905   0.037784   0.017855   \n",
              "cap-shape_k   0.019280  -0.060832   0.347611  -0.018255  -0.021572  -0.023820   \n",
              "...                ...        ...        ...        ...        ...        ...   \n",
              "habitat_l    -0.089048  -0.074394   1.000000  -0.022325  -0.038989  -0.029130   \n",
              "habitat_m    -0.180490  -0.150789  -0.022325   1.000000  -0.079025  -0.059044   \n",
              "habitat_p    -0.315208  -0.263338  -0.038989  -0.079025   1.000000  -0.103114   \n",
              "habitat_u    -0.235508  -0.196753  -0.029130  -0.059044  -0.103114   1.000000   \n",
              "target       -0.216188   0.028257  -0.027618  -0.147919   0.252056   0.170766   \n",
              "\n",
              "               target  \n",
              "bruises     -0.455026  \n",
              "cap-shape_b -0.138824  \n",
              "cap-shape_c  0.029340  \n",
              "cap-shape_f  0.029219  \n",
              "cap-shape_k  0.018510  \n",
              "...               ...  \n",
              "habitat_l   -0.027618  \n",
              "habitat_m   -0.147919  \n",
              "habitat_p    0.252056  \n",
              "habitat_u    0.170766  \n",
              "target       1.000000  \n",
              "\n",
              "[98 rows x 98 columns]"
            ],
            "text/html": [
              "\n",
              "  <div id=\"df-c3b8d087-7351-4999-bf12-cd189657eff0\">\n",
              "    <div class=\"colab-df-container\">\n",
              "      <div>\n",
              "<style scoped>\n",
              "    .dataframe tbody tr th:only-of-type {\n",
              "        vertical-align: middle;\n",
              "    }\n",
              "\n",
              "    .dataframe tbody tr th {\n",
              "        vertical-align: top;\n",
              "    }\n",
              "\n",
              "    .dataframe thead th {\n",
              "        text-align: right;\n",
              "    }\n",
              "</style>\n",
              "<table border=\"1\" class=\"dataframe\">\n",
              "  <thead>\n",
              "    <tr style=\"text-align: right;\">\n",
              "      <th></th>\n",
              "      <th>bruises</th>\n",
              "      <th>cap-shape_b</th>\n",
              "      <th>cap-shape_c</th>\n",
              "      <th>cap-shape_f</th>\n",
              "      <th>cap-shape_k</th>\n",
              "      <th>cap-shape_s</th>\n",
              "      <th>cap-shape_x</th>\n",
              "      <th>cap-surface_f</th>\n",
              "      <th>cap-surface_g</th>\n",
              "      <th>cap-surface_s</th>\n",
              "      <th>...</th>\n",
              "      <th>population_s</th>\n",
              "      <th>population_v</th>\n",
              "      <th>population_y</th>\n",
              "      <th>habitat_d</th>\n",
              "      <th>habitat_g</th>\n",
              "      <th>habitat_l</th>\n",
              "      <th>habitat_m</th>\n",
              "      <th>habitat_p</th>\n",
              "      <th>habitat_u</th>\n",
              "      <th>target</th>\n",
              "    </tr>\n",
              "  </thead>\n",
              "  <tbody>\n",
              "    <tr>\n",
              "      <th>bruises</th>\n",
              "      <td>1.000000</td>\n",
              "      <td>0.206122</td>\n",
              "      <td>-0.010159</td>\n",
              "      <td>-0.011566</td>\n",
              "      <td>-0.070103</td>\n",
              "      <td>-0.068766</td>\n",
              "      <td>-0.052700</td>\n",
              "      <td>-0.249022</td>\n",
              "      <td>0.035481</td>\n",
              "      <td>0.154310</td>\n",
              "      <td>...</td>\n",
              "      <td>0.070579</td>\n",
              "      <td>0.059327</td>\n",
              "      <td>-0.062427</td>\n",
              "      <td>0.200609</td>\n",
              "      <td>-0.194807</td>\n",
              "      <td>-0.064882</td>\n",
              "      <td>0.209994</td>\n",
              "      <td>-0.263896</td>\n",
              "      <td>0.167199</td>\n",
              "      <td>-0.455026</td>\n",
              "    </tr>\n",
              "    <tr>\n",
              "      <th>cap-shape_b</th>\n",
              "      <td>0.206122</td>\n",
              "      <td>1.000000</td>\n",
              "      <td>-0.006412</td>\n",
              "      <td>-0.191005</td>\n",
              "      <td>-0.018755</td>\n",
              "      <td>-0.014836</td>\n",
              "      <td>-0.222338</td>\n",
              "      <td>-0.170114</td>\n",
              "      <td>0.030437</td>\n",
              "      <td>0.140376</td>\n",
              "      <td>...</td>\n",
              "      <td>0.118782</td>\n",
              "      <td>-0.110311</td>\n",
              "      <td>-0.138673</td>\n",
              "      <td>-0.182646</td>\n",
              "      <td>0.063585</td>\n",
              "      <td>0.036648</td>\n",
              "      <td>0.476938</td>\n",
              "      <td>-0.076978</td>\n",
              "      <td>-0.060660</td>\n",
              "      <td>-0.138824</td>\n",
              "    </tr>\n",
              "    <tr>\n",
              "      <th>cap-shape_c</th>\n",
              "      <td>-0.010159</td>\n",
              "      <td>-0.006412</td>\n",
              "      <td>1.000000</td>\n",
              "      <td>-0.025643</td>\n",
              "      <td>-0.002518</td>\n",
              "      <td>-0.001992</td>\n",
              "      <td>-0.029849</td>\n",
              "      <td>-0.022838</td>\n",
              "      <td>0.135175</td>\n",
              "      <td>-0.015824</td>\n",
              "      <td>...</td>\n",
              "      <td>-0.014187</td>\n",
              "      <td>-0.024032</td>\n",
              "      <td>-0.019419</td>\n",
              "      <td>-0.024894</td>\n",
              "      <td>-0.020798</td>\n",
              "      <td>0.279561</td>\n",
              "      <td>-0.006241</td>\n",
              "      <td>-0.010900</td>\n",
              "      <td>-0.008144</td>\n",
              "      <td>0.029340</td>\n",
              "    </tr>\n",
              "    <tr>\n",
              "      <th>cap-shape_f</th>\n",
              "      <td>-0.011566</td>\n",
              "      <td>-0.191005</td>\n",
              "      <td>-0.025643</td>\n",
              "      <td>1.000000</td>\n",
              "      <td>-0.075003</td>\n",
              "      <td>-0.059330</td>\n",
              "      <td>-0.889147</td>\n",
              "      <td>0.025782</td>\n",
              "      <td>-0.015293</td>\n",
              "      <td>-0.072542</td>\n",
              "      <td>...</td>\n",
              "      <td>-0.088213</td>\n",
              "      <td>0.062563</td>\n",
              "      <td>0.070876</td>\n",
              "      <td>0.021977</td>\n",
              "      <td>0.015747</td>\n",
              "      <td>-0.027625</td>\n",
              "      <td>-0.158905</td>\n",
              "      <td>0.037784</td>\n",
              "      <td>0.017855</td>\n",
              "      <td>0.029219</td>\n",
              "    </tr>\n",
              "    <tr>\n",
              "      <th>cap-shape_k</th>\n",
              "      <td>-0.070103</td>\n",
              "      <td>-0.018755</td>\n",
              "      <td>-0.002518</td>\n",
              "      <td>-0.075003</td>\n",
              "      <td>1.000000</td>\n",
              "      <td>-0.005826</td>\n",
              "      <td>-0.087307</td>\n",
              "      <td>-0.039027</td>\n",
              "      <td>0.184427</td>\n",
              "      <td>-0.038231</td>\n",
              "      <td>...</td>\n",
              "      <td>-0.041497</td>\n",
              "      <td>-0.015370</td>\n",
              "      <td>-0.042174</td>\n",
              "      <td>0.019280</td>\n",
              "      <td>-0.060832</td>\n",
              "      <td>0.347611</td>\n",
              "      <td>-0.018255</td>\n",
              "      <td>-0.021572</td>\n",
              "      <td>-0.023820</td>\n",
              "      <td>0.018510</td>\n",
              "    </tr>\n",
              "    <tr>\n",
              "      <th>...</th>\n",
              "      <td>...</td>\n",
              "      <td>...</td>\n",
              "      <td>...</td>\n",
              "      <td>...</td>\n",
              "      <td>...</td>\n",
              "      <td>...</td>\n",
              "      <td>...</td>\n",
              "      <td>...</td>\n",
              "      <td>...</td>\n",
              "      <td>...</td>\n",
              "      <td>...</td>\n",
              "      <td>...</td>\n",
              "      <td>...</td>\n",
              "      <td>...</td>\n",
              "      <td>...</td>\n",
              "      <td>...</td>\n",
              "      <td>...</td>\n",
              "      <td>...</td>\n",
              "      <td>...</td>\n",
              "      <td>...</td>\n",
              "      <td>...</td>\n",
              "    </tr>\n",
              "    <tr>\n",
              "      <th>habitat_l</th>\n",
              "      <td>-0.064882</td>\n",
              "      <td>0.036648</td>\n",
              "      <td>0.279561</td>\n",
              "      <td>-0.027625</td>\n",
              "      <td>0.347611</td>\n",
              "      <td>-0.007124</td>\n",
              "      <td>-0.062575</td>\n",
              "      <td>-0.013317</td>\n",
              "      <td>0.342465</td>\n",
              "      <td>-0.056604</td>\n",
              "      <td>...</td>\n",
              "      <td>-0.050748</td>\n",
              "      <td>0.049254</td>\n",
              "      <td>-0.069462</td>\n",
              "      <td>-0.089048</td>\n",
              "      <td>-0.074394</td>\n",
              "      <td>1.000000</td>\n",
              "      <td>-0.022325</td>\n",
              "      <td>-0.038989</td>\n",
              "      <td>-0.029130</td>\n",
              "      <td>-0.027618</td>\n",
              "    </tr>\n",
              "    <tr>\n",
              "      <th>habitat_m</th>\n",
              "      <td>0.209994</td>\n",
              "      <td>0.476938</td>\n",
              "      <td>-0.006241</td>\n",
              "      <td>-0.158905</td>\n",
              "      <td>-0.018255</td>\n",
              "      <td>-0.014440</td>\n",
              "      <td>-0.036066</td>\n",
              "      <td>-0.165580</td>\n",
              "      <td>-0.007646</td>\n",
              "      <td>0.141523</td>\n",
              "      <td>...</td>\n",
              "      <td>0.127192</td>\n",
              "      <td>-0.108139</td>\n",
              "      <td>-0.140791</td>\n",
              "      <td>-0.180490</td>\n",
              "      <td>-0.150789</td>\n",
              "      <td>-0.022325</td>\n",
              "      <td>1.000000</td>\n",
              "      <td>-0.079025</td>\n",
              "      <td>-0.059044</td>\n",
              "      <td>-0.147919</td>\n",
              "    </tr>\n",
              "    <tr>\n",
              "      <th>habitat_p</th>\n",
              "      <td>-0.263896</td>\n",
              "      <td>-0.076978</td>\n",
              "      <td>-0.010900</td>\n",
              "      <td>0.037784</td>\n",
              "      <td>-0.021572</td>\n",
              "      <td>-0.025219</td>\n",
              "      <td>0.002392</td>\n",
              "      <td>0.037877</td>\n",
              "      <td>-0.013352</td>\n",
              "      <td>-0.179346</td>\n",
              "      <td>...</td>\n",
              "      <td>-0.125854</td>\n",
              "      <td>0.026260</td>\n",
              "      <td>0.163433</td>\n",
              "      <td>-0.315208</td>\n",
              "      <td>-0.263338</td>\n",
              "      <td>-0.038989</td>\n",
              "      <td>-0.079025</td>\n",
              "      <td>1.000000</td>\n",
              "      <td>-0.103114</td>\n",
              "      <td>0.252056</td>\n",
              "    </tr>\n",
              "    <tr>\n",
              "      <th>habitat_u</th>\n",
              "      <td>0.167199</td>\n",
              "      <td>-0.060660</td>\n",
              "      <td>-0.008144</td>\n",
              "      <td>0.017855</td>\n",
              "      <td>-0.023820</td>\n",
              "      <td>0.244572</td>\n",
              "      <td>-0.020909</td>\n",
              "      <td>-0.105886</td>\n",
              "      <td>-0.009976</td>\n",
              "      <td>0.256352</td>\n",
              "      <td>...</td>\n",
              "      <td>0.142549</td>\n",
              "      <td>0.063137</td>\n",
              "      <td>-0.125696</td>\n",
              "      <td>-0.235508</td>\n",
              "      <td>-0.196753</td>\n",
              "      <td>-0.029130</td>\n",
              "      <td>-0.059044</td>\n",
              "      <td>-0.103114</td>\n",
              "      <td>1.000000</td>\n",
              "      <td>0.170766</td>\n",
              "    </tr>\n",
              "    <tr>\n",
              "      <th>target</th>\n",
              "      <td>-0.455026</td>\n",
              "      <td>-0.138824</td>\n",
              "      <td>0.029340</td>\n",
              "      <td>0.029219</td>\n",
              "      <td>0.018510</td>\n",
              "      <td>-0.067884</td>\n",
              "      <td>0.033262</td>\n",
              "      <td>-0.059148</td>\n",
              "      <td>0.035942</td>\n",
              "      <td>0.050778</td>\n",
              "      <td>...</td>\n",
              "      <td>-0.054865</td>\n",
              "      <td>0.192124</td>\n",
              "      <td>0.014016</td>\n",
              "      <td>-0.216188</td>\n",
              "      <td>0.028257</td>\n",
              "      <td>-0.027618</td>\n",
              "      <td>-0.147919</td>\n",
              "      <td>0.252056</td>\n",
              "      <td>0.170766</td>\n",
              "      <td>1.000000</td>\n",
              "    </tr>\n",
              "  </tbody>\n",
              "</table>\n",
              "<p>98 rows × 98 columns</p>\n",
              "</div>\n",
              "      <button class=\"colab-df-convert\" onclick=\"convertToInteractive('df-c3b8d087-7351-4999-bf12-cd189657eff0')\"\n",
              "              title=\"Convert this dataframe to an interactive table.\"\n",
              "              style=\"display:none;\">\n",
              "        \n",
              "  <svg xmlns=\"http://www.w3.org/2000/svg\" height=\"24px\"viewBox=\"0 0 24 24\"\n",
              "       width=\"24px\">\n",
              "    <path d=\"M0 0h24v24H0V0z\" fill=\"none\"/>\n",
              "    <path d=\"M18.56 5.44l.94 2.06.94-2.06 2.06-.94-2.06-.94-.94-2.06-.94 2.06-2.06.94zm-11 1L8.5 8.5l.94-2.06 2.06-.94-2.06-.94L8.5 2.5l-.94 2.06-2.06.94zm10 10l.94 2.06.94-2.06 2.06-.94-2.06-.94-.94-2.06-.94 2.06-2.06.94z\"/><path d=\"M17.41 7.96l-1.37-1.37c-.4-.4-.92-.59-1.43-.59-.52 0-1.04.2-1.43.59L10.3 9.45l-7.72 7.72c-.78.78-.78 2.05 0 2.83L4 21.41c.39.39.9.59 1.41.59.51 0 1.02-.2 1.41-.59l7.78-7.78 2.81-2.81c.8-.78.8-2.07 0-2.86zM5.41 20L4 18.59l7.72-7.72 1.47 1.35L5.41 20z\"/>\n",
              "  </svg>\n",
              "      </button>\n",
              "      \n",
              "  <style>\n",
              "    .colab-df-container {\n",
              "      display:flex;\n",
              "      flex-wrap:wrap;\n",
              "      gap: 12px;\n",
              "    }\n",
              "\n",
              "    .colab-df-convert {\n",
              "      background-color: #E8F0FE;\n",
              "      border: none;\n",
              "      border-radius: 50%;\n",
              "      cursor: pointer;\n",
              "      display: none;\n",
              "      fill: #1967D2;\n",
              "      height: 32px;\n",
              "      padding: 0 0 0 0;\n",
              "      width: 32px;\n",
              "    }\n",
              "\n",
              "    .colab-df-convert:hover {\n",
              "      background-color: #E2EBFA;\n",
              "      box-shadow: 0px 1px 2px rgba(60, 64, 67, 0.3), 0px 1px 3px 1px rgba(60, 64, 67, 0.15);\n",
              "      fill: #174EA6;\n",
              "    }\n",
              "\n",
              "    [theme=dark] .colab-df-convert {\n",
              "      background-color: #3B4455;\n",
              "      fill: #D2E3FC;\n",
              "    }\n",
              "\n",
              "    [theme=dark] .colab-df-convert:hover {\n",
              "      background-color: #434B5C;\n",
              "      box-shadow: 0px 1px 3px 1px rgba(0, 0, 0, 0.15);\n",
              "      filter: drop-shadow(0px 1px 2px rgba(0, 0, 0, 0.3));\n",
              "      fill: #FFFFFF;\n",
              "    }\n",
              "  </style>\n",
              "\n",
              "      <script>\n",
              "        const buttonEl =\n",
              "          document.querySelector('#df-c3b8d087-7351-4999-bf12-cd189657eff0 button.colab-df-convert');\n",
              "        buttonEl.style.display =\n",
              "          google.colab.kernel.accessAllowed ? 'block' : 'none';\n",
              "\n",
              "        async function convertToInteractive(key) {\n",
              "          const element = document.querySelector('#df-c3b8d087-7351-4999-bf12-cd189657eff0');\n",
              "          const dataTable =\n",
              "            await google.colab.kernel.invokeFunction('convertToInteractive',\n",
              "                                                     [key], {});\n",
              "          if (!dataTable) return;\n",
              "\n",
              "          const docLinkHtml = 'Like what you see? Visit the ' +\n",
              "            '<a target=\"_blank\" href=https://colab.research.google.com/notebooks/data_table.ipynb>data table notebook</a>'\n",
              "            + ' to learn more about interactive tables.';\n",
              "          element.innerHTML = '';\n",
              "          dataTable['output_type'] = 'display_data';\n",
              "          await google.colab.output.renderOutput(dataTable, element);\n",
              "          const docLink = document.createElement('div');\n",
              "          docLink.innerHTML = docLinkHtml;\n",
              "          element.appendChild(docLink);\n",
              "        }\n",
              "      </script>\n",
              "    </div>\n",
              "  </div>\n",
              "  "
            ]
          },
          "metadata": {}
        },
        {
          "output_type": "display_data",
          "data": {
            "text/plain": [
              "<Figure size 720x2520 with 2 Axes>"
            ],
            "image/png": "[encoded data removed]"
          },
          "metadata": {
            "needs_background": "light"
          }
        },
        {
          "output_type": "stream",
          "name": "stdout",
          "text": [
            "\u001b[1m\u001b[91mDidapat nilai absolut korelasi antar variabel dengan variabel output adalah sebagai berikut\u001b[0m\n",
            "cap-shape_b    0.138824\n",
            "cap-shape_c    0.029340\n",
            "cap-shape_f    0.029219\n",
            "cap-shape_k    0.018510\n",
            "cap-shape_s    0.067884\n",
            "                 ...   \n",
            "habitat_g      0.028257\n",
            "habitat_l      0.027618\n",
            "habitat_m      0.147919\n",
            "habitat_p      0.252056\n",
            "habitat_u      0.170766\n",
            "Name: target, Length: 96, dtype: float64\n",
            "\n",
            "\n",
            "Mean dari korelasi tiap variabel yang ada adalah \u001b[1m0.21065026216110389\u001b[0m\n",
            "Sehingga,\u001b[1m\u001b[36m variabel yang dipilih sebagai hasil seleksi fitur adalah\u001b[0m\n",
            "cap-color_e                   0.282946\n",
            "cap-color_n                   0.291775\n",
            "cap-color_y                   0.233745\n",
            "odor_a                        0.246632\n",
            "odor_c                        0.217824\n",
            "odor_f                        0.767978\n",
            "odor_l                        0.246632\n",
            "odor_n                        0.747288\n",
            "odor_p                        0.244663\n",
            "gill-spacing_c                0.275873\n",
            "gill-spacing_w                0.275873\n",
            "gill-color_g                  0.275042\n",
            "gill-color_h                  0.262233\n",
            "gill-color_n                  0.277198\n",
            "stalk-shape_e                 0.615448\n",
            "stalk-shape_t                 0.615448\n",
            "stalk-root_b                  0.347214\n",
            "stalk-root_c                  0.227040\n",
            "stalk-surface-above-ring_k    0.675550\n",
            "stalk-surface-above-ring_s    0.580700\n",
            "stalk-surface-below-ring_k    0.662080\n",
            "stalk-surface-below-ring_s    0.527263\n",
            "stalk-color-above-ring_b      0.337670\n",
            "stalk-color-above-ring_g      0.300000\n",
            "stalk-color-above-ring_n      0.325529\n",
            "stalk-color-above-ring_w      0.295763\n",
            "stalk-color-below-ring_b      0.342392\n",
            "stalk-color-below-ring_g      0.300000\n",
            "stalk-color-below-ring_n      0.288724\n",
            "stalk-color-below-ring_w      0.281885\n",
            "ring-type_e                   0.355719\n",
            "ring-type_l                   0.662080\n",
            "ring-type_p                   0.400199\n",
            "spore-print-color_h           0.767978\n",
            "spore-print-color_k           0.414991\n",
            "spore-print-color_n           0.416702\n",
            "population_a                  0.241355\n",
            "habitat_d                     0.216188\n",
            "habitat_p                     0.252056\n",
            "Name: target, dtype: float64\n"
          ]
        }
      ]
    },
    {
      "cell_type": "code",
      "source": [
        "hasilseleksi.index"
      ],
      "metadata": {
        "colab": {
          "base_uri": "https://localhost:8080/"
        },
        "id": "i09FALdZzQ9s",
        "outputId": "fd1d3f24-517b-4b49-84d1-0a02df7118bf"
      },
      "execution_count": null,
      "outputs": [
        {
          "output_type": "execute_result",
          "data": {
            "text/plain": [
              "Index(['cap-color_e', 'cap-color_n', 'cap-color_y', 'odor_a', 'odor_c',\n",
              "       'odor_f', 'odor_l', 'odor_n', 'odor_p', 'gill-spacing_c',\n",
              "       'gill-spacing_w', 'gill-color_g', 'gill-color_h', 'gill-color_n',\n",
              "       'stalk-shape_e', 'stalk-shape_t', 'stalk-root_b', 'stalk-root_c',\n",
              "       'stalk-surface-above-ring_k', 'stalk-surface-above-ring_s',\n",
              "       'stalk-surface-below-ring_k', 'stalk-surface-below-ring_s',\n",
              "       'stalk-color-above-ring_b', 'stalk-color-above-ring_g',\n",
              "       'stalk-color-above-ring_n', 'stalk-color-above-ring_w',\n",
              "       'stalk-color-below-ring_b', 'stalk-color-below-ring_g',\n",
              "       'stalk-color-below-ring_n', 'stalk-color-below-ring_w', 'ring-type_e',\n",
              "       'ring-type_l', 'ring-type_p', 'spore-print-color_h',\n",
              "       'spore-print-color_k', 'spore-print-color_n', 'population_a',\n",
              "       'habitat_d', 'habitat_p'],\n",
              "      dtype='object')"
            ]
          },
          "metadata": {},
          "execution_count": 54
        }
      ]
    },
    {
      "cell_type": "markdown",
      "source": [
        "## Splitting Data"
      ],
      "metadata": {
        "id": "osqi6ojaaxxb"
      }
    },
    {
      "cell_type": "code",
      "source": [
        "import numpy as np\n",
        "import keras\n",
        "import tensorflow as tf\n",
        "!pip install -q -U keras-tuner\n",
        "import keras_tuner as kt\n",
        "from sklearn.model_selection import train_test_split"
      ],
      "metadata": {
        "id": "iWLp0aMrZbVR"
      },
      "execution_count": null,
      "outputs": []
    },
    {
      "cell_type": "code",
      "source": [
        "# set X and y\n",
        "jamur_x = jamur_df[['cap-color_e', 'cap-color_n', 'cap-color_y', 'odor_a', 'odor_c',\n",
        "       'odor_f', 'odor_l', 'odor_n', 'odor_p', 'gill-spacing_c',\n",
        "       'gill-spacing_w', 'gill-size_b', 'gill-size_n', 'gill-color_g',\n",
        "       'gill-color_h', 'gill-color_n', 'stalk-shape_e', 'stalk-shape_t',\n",
        "       'stalk-root_b', 'stalk-root_c', 'stalk-surface-above-ring_k',\n",
        "       'stalk-surface-above-ring_s', 'stalk-surface-below-ring_k',\n",
        "       'stalk-surface-below-ring_s', 'stalk-color-above-ring_b',\n",
        "       'stalk-color-above-ring_g', 'stalk-color-above-ring_n',\n",
        "       'stalk-color-above-ring_w', 'stalk-color-below-ring_b',\n",
        "       'stalk-color-below-ring_g', 'stalk-color-below-ring_n',\n",
        "       'stalk-color-below-ring_w', 'ring-type_e', 'ring-type_l', 'ring-type_p',\n",
        "       'spore-print-color_h', 'spore-print-color_k', 'spore-print-color_n',\n",
        "       'population_a', 'population_v', 'habitat_d', 'habitat_p']]\n",
        "jamur_y = jamur_df['target']"
      ],
      "metadata": {
        "id": "KFU5__-8a5a6"
      },
      "execution_count": null,
      "outputs": []
    },
    {
      "cell_type": "markdown",
      "source": [
        "Data tidak mengandung data numerik sehingga tidak diperlu dilakukan normalisasi data."
      ],
      "metadata": {
        "id": "zl-Vy3694gKt"
      }
    },
    {
      "cell_type": "code",
      "source": [
        "#melakukan pemisahan data ke dalm data train, data test, dan data validation\n",
        "jamur_x_train, jamur_x_val_and_test, jamur_y_train, jamur_y_val_and_test = train_test_split(jamur_x,jamur_y, test_size = 0.25, random_state = 40)\n",
        "jamur_x_val, jamur_x_test, jamur_y_val, jamur_y_test = train_test_split(jamur_x_val_and_test, jamur_y_val_and_test, test_size=0.5, random_state = 20)\n",
        "print(jamur_x_train.shape, jamur_x_val.shape, jamur_x_test.shape, jamur_y_train.shape, jamur_y_val.shape, jamur_y_test.shape)"
      ],
      "metadata": {
        "colab": {
          "base_uri": "https://localhost:8080/"
        },
        "id": "21sO-qhi42jj",
        "outputId": "11d6d6d3-10e0-4469-a4e1-a49a211c5f83"
      },
      "execution_count": null,
      "outputs": [
        {
          "output_type": "stream",
          "name": "stdout",
          "text": [
            "(5232, 42) (872, 42) (872, 42) (5232,) (872,) (872,)\n"
          ]
        }
      ]
    },
    {
      "cell_type": "markdown",
      "source": [
        "## Tuning Hyperparameter"
      ],
      "metadata": {
        "id": "FpsAMj-_40yT"
      }
    },
    {
      "cell_type": "code",
      "source": [
        "from keras.models import Sequential\n",
        "from keras.layers import Dense"
      ],
      "metadata": {
        "id": "LdPcmKXU5itU"
      },
      "execution_count": null,
      "outputs": []
    },
    {
      "cell_type": "code",
      "source": [
        "def build_model(hp):\n",
        "  jamur_model = Sequential()                                                    #inisialisasi model sequential\n",
        "\n",
        "  hp_layers = hp.Choice('layer',[3,4])                                        #memvariasikan nilai layer\n",
        "  hp_neurons = hp.Int('neuron', min_value = 50, max_value = 100, step = 50)   #memvariasikan nilai neuron antara 100,200,300\n",
        "\n",
        "  jamur_model.add(keras.layers.Dense(hp_neurons,input_shape = (42,), activation='relu'))\n",
        "  for layers in range(hp_layers):                                               #misal hidden layer = 3 , mengulang sebanyak hp_layer kali\n",
        "    jamur_model.add(keras.layers.Dense(hp_neurons, activation = 'relu'))        #hidden layer sebanyak hp_neurons\n",
        "  jamur_model.add(keras.layers.Dense(2,activation = 'softmax'))                 #tambahkan output layer sebanyak 1 neuron karena 1 nilai output\n",
        "\n",
        "  #model compile\n",
        "  jamur_model.compile(loss = 'sparse_categorical_crossentropy',\n",
        "                optimizer = 'sgd',\n",
        "                metrics = ['accuracy'])\n",
        "  return jamur_model"
      ],
      "metadata": {
        "id": "QnA_gaHq41h7"
      },
      "execution_count": null,
      "outputs": []
    },
    {
      "cell_type": "code",
      "source": [
        "#hyperband tuner\n",
        "jamurtuner = kt.Hyperband(build_model,                                          #nama model\n",
        "                     objective = 'val_accuracy',                                #tolak ukur keakuratan\n",
        "                     max_epochs = 20,                                           #pengulangan 10 kali\n",
        "                     directory = 'jamur_dir',                                   #tempat model disimpan\n",
        "                     project_name = 'jamur_tuner')                              #nama project"
      ],
      "metadata": {
        "id": "YTYmxiT46WzL"
      },
      "execution_count": null,
      "outputs": []
    },
    {
      "cell_type": "code",
      "source": [
        "#early stopping: untuk pada epochs tertentu, accuracy tidak berubah secara\n",
        "#signifikan sehingga tidak membuang waktu training dan tidak terjadi overfitting\n",
        "\n",
        "jamur_stop_early = tf.keras.callbacks.EarlyStopping( #early stopping\n",
        "    monitor = 'val_loss', #loss validation dari train yang dilakukan\n",
        "    patience = 10 #melihat selama 10 patience apakah terdapat nilai val_loss yang lebih baik\n",
        ")"
      ],
      "metadata": {
        "id": "VcxbYeih7ERr"
      },
      "execution_count": null,
      "outputs": []
    },
    {
      "cell_type": "code",
      "source": [
        "#proses pencarian hyperparameter\n",
        "\n",
        "jamurtuner.search(jamur_x_train, jamur_y_train,\n",
        "             epochs = 20,\n",
        "             validation_data = [jamur_x_val, jamur_y_val],\n",
        "             callbacks = [jamur_stop_early])"
      ],
      "metadata": {
        "colab": {
          "base_uri": "https://localhost:8080/"
        },
        "id": "LCDkIbrd7IOl",
        "outputId": "150103ec-acf3-4702-90f4-46a25009d7ca"
      },
      "execution_count": null,
      "outputs": [
        {
          "output_type": "stream",
          "name": "stdout",
          "text": [
            "Trial 4 Complete [00h 00m 05s]\n",
            "val_accuracy: 0.9908257126808167\n",
            "\n",
            "Best val_accuracy So Far: 0.9965596199035645\n",
            "Total elapsed time: 00h 00m 17s\n",
            "INFO:tensorflow:Oracle triggered exit\n"
          ]
        }
      ]
    },
    {
      "cell_type": "code",
      "source": [
        "jamur_best_hps = jamurtuner.get_best_hyperparameters()[0]\n",
        "\n",
        "print(\"best number of layers: \", jamur_best_hps.get(\"layer\"))\n",
        "print(\"best number of neuron: \", jamur_best_hps.get(\"neuron\"))"
      ],
      "metadata": {
        "colab": {
          "base_uri": "https://localhost:8080/"
        },
        "id": "GZ_bbpm_9RNa",
        "outputId": "baa91eaf-4c12-4725-cbd4-1fb48233cc32"
      },
      "execution_count": null,
      "outputs": [
        {
          "output_type": "stream",
          "name": "stdout",
          "text": [
            "best number of layers:  3\n",
            "best number of neuron:  50\n"
          ]
        }
      ]
    },
    {
      "cell_type": "markdown",
      "source": [
        "## Pembuatan Model"
      ],
      "metadata": {
        "id": "ulgBRfaE9Ysq"
      }
    },
    {
      "cell_type": "code",
      "source": [
        "jamur_model = jamurtuner.hypermodel.build(jamur_best_hps)\n",
        "jamur_eval_result=[0,0]\n",
        "while jamur_eval_result[1]<0.85:\n",
        "  jamur_hist = jamur_model.fit(jamur_x_train, jamur_y_train,\n",
        "                               epochs = 5,\n",
        "                               validation_data = [jamur_x_val, jamur_y_val])\n",
        "  jamur_eval_result = jamur_model.evaluate(jamur_x_test, jamur_y_test)\n",
        "print(\"[test loss, test accuracy]:\", jamur_eval_result)"
      ],
      "metadata": {
        "colab": {
          "base_uri": "https://localhost:8080/"
        },
        "id": "-sCCvxX29bXh",
        "outputId": "cf213a6e-4db7-4e6b-be68-8d0e7f872e2c"
      },
      "execution_count": null,
      "outputs": [
        {
          "output_type": "stream",
          "name": "stdout",
          "text": [
            "Epoch 1/5\n",
            "164/164 [==============================] - 2s 7ms/step - loss: 0.5658 - accuracy: 0.7945 - val_loss: 0.4008 - val_accuracy: 0.8842\n",
            "Epoch 2/5\n",
            "164/164 [==============================] - 1s 5ms/step - loss: 0.2741 - accuracy: 0.9390 - val_loss: 0.1567 - val_accuracy: 0.9725\n",
            "Epoch 3/5\n",
            "164/164 [==============================] - 1s 5ms/step - loss: 0.1096 - accuracy: 0.9731 - val_loss: 0.0689 - val_accuracy: 0.9759\n",
            "Epoch 4/5\n",
            "164/164 [==============================] - 1s 4ms/step - loss: 0.0567 - accuracy: 0.9883 - val_loss: 0.0412 - val_accuracy: 0.9943\n",
            "Epoch 5/5\n",
            "164/164 [==============================] - 1s 5ms/step - loss: 0.0356 - accuracy: 0.9956 - val_loss: 0.0295 - val_accuracy: 0.9920\n",
            "28/28 [==============================] - 0s 3ms/step - loss: 0.0240 - accuracy: 0.9954\n",
            "[test loss, test accuracy]: [0.023972155526280403, 0.9954128265380859]\n"
          ]
        }
      ]
    },
    {
      "cell_type": "code",
      "source": [
        "jamur_model.summary()"
      ],
      "metadata": {
        "colab": {
          "base_uri": "https://localhost:8080/"
        },
        "id": "IUrOIVN5Vodb",
        "outputId": "aad353a2-0e13-4a65-c154-816896ca0b83"
      },
      "execution_count": null,
      "outputs": [
        {
          "output_type": "stream",
          "name": "stdout",
          "text": [
            "Model: \"sequential_1\"\n",
            "_________________________________________________________________\n",
            " Layer (type)                Output Shape              Param #   \n",
            "=================================================================\n",
            " dense_6 (Dense)             (None, 50)                2150      \n",
            "                                                                 \n",
            " dense_7 (Dense)             (None, 50)                2550      \n",
            "                                                                 \n",
            " dense_8 (Dense)             (None, 50)                2550      \n",
            "                                                                 \n",
            " dense_9 (Dense)             (None, 50)                2550      \n",
            "                                                                 \n",
            " dense_10 (Dense)            (None, 2)                 102       \n",
            "                                                                 \n",
            "=================================================================\n",
            "Total params: 9,902\n",
            "Trainable params: 9,902\n",
            "Non-trainable params: 0\n",
            "_________________________________________________________________\n"
          ]
        }
      ]
    },
    {
      "cell_type": "markdown",
      "source": [
        "## Evaluasi Model"
      ],
      "metadata": {
        "id": "LeBoJOLB91Kx"
      }
    },
    {
      "cell_type": "code",
      "source": [
        "jamur_eval_result = jamur_model.evaluate(jamur_x_test, jamur_y_test)\n",
        "print(\"[test loss, test accuracy]:\", jamur_eval_result)"
      ],
      "metadata": {
        "colab": {
          "base_uri": "https://localhost:8080/"
        },
        "id": "P8MBZcWj923g",
        "outputId": "b3be688a-eb21-4753-bf1f-48338cf9c828"
      },
      "execution_count": null,
      "outputs": [
        {
          "output_type": "stream",
          "name": "stdout",
          "text": [
            "28/28 [==============================] - 0s 3ms/step - loss: 0.0240 - accuracy: 0.9954\n",
            "[test loss, test accuracy]: [0.023972155526280403, 0.9954128265380859]\n"
          ]
        }
      ]
    },
    {
      "cell_type": "code",
      "source": [
        "from sklearn.metrics import classification_report\n",
        "jamur_y_proba = jamur_model.predict(jamur_x_test)\n",
        "jamur_y_pred = np.array([np.argmax(i) for i in jamur_y_proba])\n",
        "print(classification_report(jamur_y_test, jamur_y_pred))"
      ],
      "metadata": {
        "colab": {
          "base_uri": "https://localhost:8080/"
        },
        "id": "wXV1JsOM97fB",
        "outputId": "b135c978-d2b4-4d90-b5fd-826ffe20ed57"
      },
      "execution_count": null,
      "outputs": [
        {
          "output_type": "stream",
          "name": "stdout",
          "text": [
            "              precision    recall  f1-score   support\n",
            "\n",
            "           0       1.00      0.99      1.00       424\n",
            "           1       0.99      1.00      1.00       448\n",
            "\n",
            "    accuracy                           1.00       872\n",
            "   macro avg       1.00      1.00      1.00       872\n",
            "weighted avg       1.00      1.00      1.00       872\n",
            "\n"
          ]
        }
      ]
    },
    {
      "cell_type": "code",
      "source": [
        "#make dataframe for comparing the orignal and predict values\n",
        "data = {'orignal_churn':jamur_y_test, 'predicted_churn':jamur_y_pred}\n",
        "df_check = pd.DataFrame(data)\n",
        "df_check.head(10)"
      ],
      "metadata": {
        "colab": {
          "base_uri": "https://localhost:8080/",
          "height": 363
        },
        "id": "rXqXmBAWjIkn",
        "outputId": "9ce202ec-3102-4807-f2e0-15cade45785f"
      },
      "execution_count": null,
      "outputs": [
        {
          "output_type": "execute_result",
          "data": {
            "text/plain": [
              "      orignal_churn  predicted_churn\n",
              "2860              1                1\n",
              "2189              0                0\n",
              "4667              1                1\n",
              "1684              0                0\n",
              "1033              0                0\n",
              "3045              0                0\n",
              "5806              1                1\n",
              "5048              1                1\n",
              "5095              1                1\n",
              "618               0                0"
            ],
            "text/html": [
              "\n",
              "  <div id=\"df-397adb57-65dc-4252-b873-f8fe42b9c29a\">\n",
              "    <div class=\"colab-df-container\">\n",
              "      <div>\n",
              "<style scoped>\n",
              "    .dataframe tbody tr th:only-of-type {\n",
              "        vertical-align: middle;\n",
              "    }\n",
              "\n",
              "    .dataframe tbody tr th {\n",
              "        vertical-align: top;\n",
              "    }\n",
              "\n",
              "    .dataframe thead th {\n",
              "        text-align: right;\n",
              "    }\n",
              "</style>\n",
              "<table border=\"1\" class=\"dataframe\">\n",
              "  <thead>\n",
              "    <tr style=\"text-align: right;\">\n",
              "      <th></th>\n",
              "      <th>orignal_churn</th>\n",
              "      <th>predicted_churn</th>\n",
              "    </tr>\n",
              "  </thead>\n",
              "  <tbody>\n",
              "    <tr>\n",
              "      <th>2860</th>\n",
              "      <td>1</td>\n",
              "      <td>1</td>\n",
              "    </tr>\n",
              "    <tr>\n",
              "      <th>2189</th>\n",
              "      <td>0</td>\n",
              "      <td>0</td>\n",
              "    </tr>\n",
              "    <tr>\n",
              "      <th>4667</th>\n",
              "      <td>1</td>\n",
              "      <td>1</td>\n",
              "    </tr>\n",
              "    <tr>\n",
              "      <th>1684</th>\n",
              "      <td>0</td>\n",
              "      <td>0</td>\n",
              "    </tr>\n",
              "    <tr>\n",
              "      <th>1033</th>\n",
              "      <td>0</td>\n",
              "      <td>0</td>\n",
              "    </tr>\n",
              "    <tr>\n",
              "      <th>3045</th>\n",
              "      <td>0</td>\n",
              "      <td>0</td>\n",
              "    </tr>\n",
              "    <tr>\n",
              "      <th>5806</th>\n",
              "      <td>1</td>\n",
              "      <td>1</td>\n",
              "    </tr>\n",
              "    <tr>\n",
              "      <th>5048</th>\n",
              "      <td>1</td>\n",
              "      <td>1</td>\n",
              "    </tr>\n",
              "    <tr>\n",
              "      <th>5095</th>\n",
              "      <td>1</td>\n",
              "      <td>1</td>\n",
              "    </tr>\n",
              "    <tr>\n",
              "      <th>618</th>\n",
              "      <td>0</td>\n",
              "      <td>0</td>\n",
              "    </tr>\n",
              "  </tbody>\n",
              "</table>\n",
              "</div>\n",
              "      <button class=\"colab-df-convert\" onclick=\"convertToInteractive('df-397adb57-65dc-4252-b873-f8fe42b9c29a')\"\n",
              "              title=\"Convert this dataframe to an interactive table.\"\n",
              "              style=\"display:none;\">\n",
              "        \n",
              "  <svg xmlns=\"http://www.w3.org/2000/svg\" height=\"24px\"viewBox=\"0 0 24 24\"\n",
              "       width=\"24px\">\n",
              "    <path d=\"M0 0h24v24H0V0z\" fill=\"none\"/>\n",
              "    <path d=\"M18.56 5.44l.94 2.06.94-2.06 2.06-.94-2.06-.94-.94-2.06-.94 2.06-2.06.94zm-11 1L8.5 8.5l.94-2.06 2.06-.94-2.06-.94L8.5 2.5l-.94 2.06-2.06.94zm10 10l.94 2.06.94-2.06 2.06-.94-2.06-.94-.94-2.06-.94 2.06-2.06.94z\"/><path d=\"M17.41 7.96l-1.37-1.37c-.4-.4-.92-.59-1.43-.59-.52 0-1.04.2-1.43.59L10.3 9.45l-7.72 7.72c-.78.78-.78 2.05 0 2.83L4 21.41c.39.39.9.59 1.41.59.51 0 1.02-.2 1.41-.59l7.78-7.78 2.81-2.81c.8-.78.8-2.07 0-2.86zM5.41 20L4 18.59l7.72-7.72 1.47 1.35L5.41 20z\"/>\n",
              "  </svg>\n",
              "      </button>\n",
              "      \n",
              "  <style>\n",
              "    .colab-df-container {\n",
              "      display:flex;\n",
              "      flex-wrap:wrap;\n",
              "      gap: 12px;\n",
              "    }\n",
              "\n",
              "    .colab-df-convert {\n",
              "      background-color: #E8F0FE;\n",
              "      border: none;\n",
              "      border-radius: 50%;\n",
              "      cursor: pointer;\n",
              "      display: none;\n",
              "      fill: #1967D2;\n",
              "      height: 32px;\n",
              "      padding: 0 0 0 0;\n",
              "      width: 32px;\n",
              "    }\n",
              "\n",
              "    .colab-df-convert:hover {\n",
              "      background-color: #E2EBFA;\n",
              "      box-shadow: 0px 1px 2px rgba(60, 64, 67, 0.3), 0px 1px 3px 1px rgba(60, 64, 67, 0.15);\n",
              "      fill: #174EA6;\n",
              "    }\n",
              "\n",
              "    [theme=dark] .colab-df-convert {\n",
              "      background-color: #3B4455;\n",
              "      fill: #D2E3FC;\n",
              "    }\n",
              "\n",
              "    [theme=dark] .colab-df-convert:hover {\n",
              "      background-color: #434B5C;\n",
              "      box-shadow: 0px 1px 3px 1px rgba(0, 0, 0, 0.15);\n",
              "      filter: drop-shadow(0px 1px 2px rgba(0, 0, 0, 0.3));\n",
              "      fill: #FFFFFF;\n",
              "    }\n",
              "  </style>\n",
              "\n",
              "      <script>\n",
              "        const buttonEl =\n",
              "          document.querySelector('#df-397adb57-65dc-4252-b873-f8fe42b9c29a button.colab-df-convert');\n",
              "        buttonEl.style.display =\n",
              "          google.colab.kernel.accessAllowed ? 'block' : 'none';\n",
              "\n",
              "        async function convertToInteractive(key) {\n",
              "          const element = document.querySelector('#df-397adb57-65dc-4252-b873-f8fe42b9c29a');\n",
              "          const dataTable =\n",
              "            await google.colab.kernel.invokeFunction('convertToInteractive',\n",
              "                                                     [key], {});\n",
              "          if (!dataTable) return;\n",
              "\n",
              "          const docLinkHtml = 'Like what you see? Visit the ' +\n",
              "            '<a target=\"_blank\" href=https://colab.research.google.com/notebooks/data_table.ipynb>data table notebook</a>'\n",
              "            + ' to learn more about interactive tables.';\n",
              "          element.innerHTML = '';\n",
              "          dataTable['output_type'] = 'display_data';\n",
              "          await google.colab.output.renderOutput(dataTable, element);\n",
              "          const docLink = document.createElement('div');\n",
              "          docLink.innerHTML = docLinkHtml;\n",
              "          element.appendChild(docLink);\n",
              "        }\n",
              "      </script>\n",
              "    </div>\n",
              "  </div>\n",
              "  "
            ]
          },
          "metadata": {},
          "execution_count": 68
        }
      ]
    },
    {
      "cell_type": "code",
      "source": [
        "from sklearn.metrics import confusion_matrix\n",
        "conf_matrix=confusion_matrix(jamur_y_test, jamur_y_pred)\n",
        "\n",
        "fig, ax = plt.subplots(figsize=(5, 5))\n",
        "ax.matshow(conf_matrix, cmap=plt.cm.Oranges, alpha=0.3)\n",
        "for i in range(conf_matrix.shape[0]):\n",
        "    for j in range(conf_matrix.shape[1]):\n",
        "        ax.text(x=j, y=i,s=conf_matrix[i, j], va='center', ha='center', size='xx-large')\n",
        "\n",
        "\n",
        "print(color.BOLD + color.DARKCYAN + \"Confusion Matrix\"+color.END)\n",
        "print(conf_matrix)\n",
        "print(\"\")\n",
        "plt.xlabel('Predictions', fontsize=18)\n",
        "plt.ylabel('Actuals', fontsize=18)\n",
        "plt.title('Confusion Matrix', fontsize=18)\n",
        "plt.show()"
      ],
      "metadata": {
        "colab": {
          "base_uri": "https://localhost:8080/",
          "height": 427
        },
        "id": "53xoWqryVskn",
        "outputId": "bcace508-0b6c-4fe7-cb3d-0ceabda440c1"
      },
      "execution_count": null,
      "outputs": [
        {
          "output_type": "stream",
          "name": "stdout",
          "text": [
            "\u001b[1m\u001b[36mConfusion Matrix\u001b[0m\n",
            "[[420   4]\n",
            " [  0 448]]\n",
            "\n"
          ]
        },
        {
          "output_type": "display_data",
          "data": {
            "text/plain": [
              "<Figure size 360x360 with 1 Axes>"
            ],
            "image/png": "[encoded data removed]"
          },
          "metadata": {
            "needs_background": "light"
          }
        }
      ]
    },
    {
      "cell_type": "markdown",
      "source": [
        "## Visualisasi Loss dan Akurasi"
      ],
      "metadata": {
        "id": "CRAEYEwB93MS"
      }
    },
    {
      "cell_type": "code",
      "source": [
        "plt.plot(jamur_hist.history['loss'])\n",
        "plt.plot(jamur_hist.history['val_loss'])\n",
        "plt.title('Model loss')\n",
        "plt.ylabel('Loss')\n",
        "plt.xlabel('Epoch')\n",
        "plt.legend(['Train', 'Val'], loc='upper right')\n",
        "plt.show()"
      ],
      "metadata": {
        "colab": {
          "base_uri": "https://localhost:8080/",
          "height": 295
        },
        "id": "kOEnRqXj-D7M",
        "outputId": "b0e4c3d7-c9ff-4481-a14f-af0bfb3e739d"
      },
      "execution_count": null,
      "outputs": [
        {
          "output_type": "display_data",
          "data": {
            "text/plain": [
              "<Figure size 432x288 with 1 Axes>"
            ],
            "image/png": "[encoded data removed]"
          },
          "metadata": {
            "needs_background": "light"
          }
        }
      ]
    },
    {
      "cell_type": "code",
      "source": [
        "plt.plot(jamur_hist.history['accuracy'])\n",
        "plt.plot(jamur_hist.history['val_accuracy'])\n",
        "plt.title('Model accuracy')\n",
        "plt.ylabel('Accuracy')\n",
        "plt.xlabel('Epoch')\n",
        "plt.legend(['Train', 'Val'], loc='lower right')\n",
        "plt.show()"
      ],
      "metadata": {
        "colab": {
          "base_uri": "https://localhost:8080/",
          "height": 295
        },
        "id": "L0-4f-Mh-F1r",
        "outputId": "0d35b905-d00a-42e4-d266-faee89fd757d"
      },
      "execution_count": null,
      "outputs": [
        {
          "output_type": "display_data",
          "data": {
            "text/plain": [
              "<Figure size 432x288 with 1 Axes>"
            ],
            "image/png": "[encoded data removed]"
          },
          "metadata": {
            "needs_background": "light"
          }
        }
      ]
    },
    {
      "cell_type": "markdown",
      "source": [
        "## Penjelasan"
      ],
      "metadata": {
        "id": "CNx8zbfUERm6"
      }
    },
    {
      "cell_type": "markdown",
      "source": [
        "Penjelasan **edible jamur**\n",
        "\n",
        "**Precision** adalah perbandingan antara chance of heart attack sesungguhnya dan prediksi benar (True Positive) dengan banyaknya data yang diprediksi positif yaitu 448/(448+4)=0.9911\n",
        "\n",
        "**Recall** adalah perbandingan antara chance of heart attack sesungguhnya dan prediksi benar (True Positive) dengan\n",
        "banyaknya data yang sebenarnya positif yaitu 448/(448+0)=1\n",
        "\n",
        "**F1-score** adalah harmonic mean dari precision dan recall dimana 1/F1=1/2(1/P+1/R)=0.995"
      ],
      "metadata": {
        "id": "hykc8fE7ERm9"
      }
    },
    {
      "cell_type": "markdown",
      "source": [
        "Penjelasan **poisonous jamur**\n",
        "\n",
        "**Precision** adalah perbandingan antara chance of heart attack sesungguhnya dan prediksi benar (True Negative) dengan banyaknya data yang diprediksi positif yaitu 420/(420+0)=1\n",
        "\n",
        "**Recall** adalah perbandingan antara chance of heart attack sesungguhnya dan prediksi benar (True Negative) dengan\n",
        "banyaknya data yang sebenarnya positif yaitu 420/(420+4)=0.99\n",
        "\n",
        "**F1-score** adalah harmonic mean dari precision dan recall dimana 1/F1=1/2(1/P+1/R)=0.995"
      ],
      "metadata": {
        "id": "kP6fSwKYERm-"
      }
    },
    {
      "cell_type": "markdown",
      "source": [
        "Penjealasan  **Akurasi** : 0.9954128265380859 menyatakan model memiliki keakurasian sebesar 99.5%"
      ],
      "metadata": {
        "id": "T6vFbuh-ERm_"
      }
    }
  ]
}